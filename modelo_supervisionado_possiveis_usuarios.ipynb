{
 "cells": [
  {
   "cell_type": "markdown",
   "metadata": {},
   "source": [
    "# Importantando bibliotecas"
   ]
  },
  {
   "cell_type": "code",
   "execution_count": 147,
   "metadata": {},
   "outputs": [],
   "source": [
    "import pandas as pd\n",
    "import numpy as np\n",
    "import matplotlib.pyplot as plt"
   ]
  },
  {
   "cell_type": "markdown",
   "metadata": {},
   "source": [
    "# Semente"
   ]
  },
  {
   "cell_type": "code",
   "execution_count": 125,
   "metadata": {},
   "outputs": [],
   "source": [
    "SEED = 42"
   ]
  },
  {
   "cell_type": "markdown",
   "metadata": {},
   "source": [
    "# Objetivo"
   ]
  },
  {
   "cell_type": "markdown",
   "metadata": {},
   "source": [
    "O objetivo teste modelo é predizer se, de acordo com as características da pessoa (frequência que vai a museus, quais tipos de obra gosta mais, se acompanha artístas, entre outras), ela usaria nosso aplicativo ou não, levando em consideração do que a pessoa gosta e como é sua experiência ao visitar um museu e o que nosso aplicativo oferece de funcionalidades.\n",
    "\n",
    "#### Modelo\n",
    "\n",
    "Um modelo criado neste contexto precisa levar então em consideração algumas coisas:\n",
    "\n",
    "- Pessoas mais propensas em usar o Leontis, possuem mais características do público alvo e por isso é interessante adicionar pesos as características mais relevantes, essas são:\n",
    "\n",
    "    + <strong>Tipo de arte que mais gosta:</strong> pinturas e fotografias têm mais a ver com nosso foco atualmente, indivíduos que se interessam mais por arte de rua ou arte digital, podem não achar o aplicativo interessante por abordar outro conteúdo;\n",
    "    + <strong>Frequência que vai a museus:</strong> extremamente importante, pessoas que nunca vão ou vão raramente, é difícil instalarem um app sobre arte e de idas a museus;\n",
    "    + <strong>Guia:</strong> informação valiosa em nosso contexto, uma das principais funcionalidades é justamente o guia de museu. Caso não utilize atualmente, improvável de usar no app, diminuindo assim a chance de instalarem;\n",
    "    + <strong>Motivos:</strong> Leontis sendo uma plataforma de cultura e aprendizado, pessoas com interesse maior em aprender ou se inspirarem quando vão a museus, podem gostar mais do aplicativo;\n",
    "    + <strong>Falta de informação:</strong> uma das perguntas mais importantes. Outra principal funcionalidade é o scanner, que serve para facilitar sua experiência no museu, quando sentir falta de informação da obra, escaneando-a o app te retorna mais informações. Porém isto se torna inútil caso o indivíduo se sinta satisfeito com o que é passado no museu;\n",
    "    + <strong>Procurar informações:</strong> se a pessoa não tem costume de procurar essas informações, dificilmente usará o scanner mesmo não ficando satisafeito com o que é passado;\n",
    "    + <strong>Achar informações:</strong> também, se atualmente ela pesquisa e encontra o que queria, é mais difícil de procurar um meio alternativo de busca.\n",
    "\n",
    "- Claro que o ideal é ter um modelo balançeado, ou seja, para cada classe ter uma boa performance de predição contendo pequenos erros para que não fique viciado. Porém, em nosso contexto, é mais importante acertar quem realmente usaria nosso aplicativo, do que errar dizendo que não é um possível usuário mesmo sendo. Ou seja, é melhor o modelo predizer pra menos o número de possíveis usuários, do que pra mais, focando em definir que quem o modelo predisse que é um possível usuário, realmente seja, e predizendo que não era um possível usuário mesmo sendo, é menos relevante."
   ]
  },
  {
   "cell_type": "markdown",
   "metadata": {},
   "source": [
    "# Carregando base e escolhendo colunas"
   ]
  },
  {
   "cell_type": "code",
   "execution_count": 162,
   "metadata": {},
   "outputs": [
    {
     "data": {
      "text/html": [
       "<div>\n",
       "<style scoped>\n",
       "    .dataframe tbody tr th:only-of-type {\n",
       "        vertical-align: middle;\n",
       "    }\n",
       "\n",
       "    .dataframe tbody tr th {\n",
       "        vertical-align: top;\n",
       "    }\n",
       "\n",
       "    .dataframe thead th {\n",
       "        text-align: right;\n",
       "    }\n",
       "</style>\n",
       "<table border=\"1\" class=\"dataframe\">\n",
       "  <thead>\n",
       "    <tr style=\"text-align: right;\">\n",
       "      <th></th>\n",
       "      <th>ID</th>\n",
       "      <th>Hora de início</th>\n",
       "      <th>Hora de conclusão</th>\n",
       "      <th>E-mail</th>\n",
       "      <th>Nome</th>\n",
       "      <th>Hora da última modificação</th>\n",
       "      <th>Em qual faixa etária você se encaixa?</th>\n",
       "      <th>Com qual gênero você se identifica?</th>\n",
       "      <th>Qual seu nível de formação atual?</th>\n",
       "      <th>Qual a renda per capita da sua casa? (A renda per capita é calculada somando a renda de cada indivíduo da casa e dividindo pela quantidade de pessoas)</th>\n",
       "      <th>...</th>\n",
       "      <th>Você já participou de algum curso ou atividade relacionada à arte?</th>\n",
       "      <th>Você segue artístas ou páginas relacionadas à arte nas rede sociais?</th>\n",
       "      <th>Como é sua experiência ao visitar um museu normalmente? Caso nunca tenha visitado, selecione a que você acredita que seguiria.</th>\n",
       "      <th>Você já usou um aplicativo de um museu ou relacionado à arte?</th>\n",
       "      <th>O que mais te atrai em visitar museus ou exposições de arte?</th>\n",
       "      <th>Você sente falta de mais informações sobre as obras nos museus?</th>\n",
       "      <th>Você procura saber sobre essas informações faltantes?</th>\n",
       "      <th>De que forma você costuma buscar essas informações?</th>\n",
       "      <th>Você encontra o que precisa/esperava ao pesquisar?</th>\n",
       "      <th>Usaria o aplicativo?</th>\n",
       "    </tr>\n",
       "  </thead>\n",
       "  <tbody>\n",
       "    <tr>\n",
       "      <th>0</th>\n",
       "      <td>1</td>\n",
       "      <td>2024-08-16 11:18:14</td>\n",
       "      <td>2024-08-16 11:20:21</td>\n",
       "      <td>anonymous</td>\n",
       "      <td>NaN</td>\n",
       "      <td>NaN</td>\n",
       "      <td>Menos de 18 anos</td>\n",
       "      <td>Masculino</td>\n",
       "      <td>Cursando ensino médio</td>\n",
       "      <td>Classes D/E: até R$ 2,9 mil</td>\n",
       "      <td>...</td>\n",
       "      <td>Não</td>\n",
       "      <td>Sim</td>\n",
       "      <td>Sem um guia/planejamento para ver as obras.</td>\n",
       "      <td>Não</td>\n",
       "      <td>Lazer</td>\n",
       "      <td>Sim, sinto falta de mais informações</td>\n",
       "      <td>Sim, procuro</td>\n",
       "      <td>Busca em navegadores (Google, Yahoo, Edge, Ope...</td>\n",
       "      <td>Não</td>\n",
       "      <td>Sim</td>\n",
       "    </tr>\n",
       "    <tr>\n",
       "      <th>1</th>\n",
       "      <td>2</td>\n",
       "      <td>2024-08-16 12:18:44</td>\n",
       "      <td>2024-08-16 12:19:31</td>\n",
       "      <td>anonymous</td>\n",
       "      <td>NaN</td>\n",
       "      <td>NaN</td>\n",
       "      <td>Entre 25 e 35 anos</td>\n",
       "      <td>Feminino</td>\n",
       "      <td>Ensino superior concluído</td>\n",
       "      <td>Classe C: entre R$ 2,9 mil e R$ 7,1 mil</td>\n",
       "      <td>...</td>\n",
       "      <td>NaN</td>\n",
       "      <td>NaN</td>\n",
       "      <td>NaN</td>\n",
       "      <td>NaN</td>\n",
       "      <td>NaN</td>\n",
       "      <td>NaN</td>\n",
       "      <td>NaN</td>\n",
       "      <td>NaN</td>\n",
       "      <td>NaN</td>\n",
       "      <td>Não</td>\n",
       "    </tr>\n",
       "    <tr>\n",
       "      <th>2</th>\n",
       "      <td>3</td>\n",
       "      <td>2024-08-16 12:19:26</td>\n",
       "      <td>2024-08-16 12:20:28</td>\n",
       "      <td>anonymous</td>\n",
       "      <td>NaN</td>\n",
       "      <td>NaN</td>\n",
       "      <td>Menos de 18 anos</td>\n",
       "      <td>Feminino</td>\n",
       "      <td>Cursando ensino médio</td>\n",
       "      <td>Classe C: entre R$ 2,9 mil e R$ 7,1 mil</td>\n",
       "      <td>...</td>\n",
       "      <td>Sim</td>\n",
       "      <td>Sim</td>\n",
       "      <td>Sem um guia/planejamento para ver as obras.</td>\n",
       "      <td>Não</td>\n",
       "      <td>Aprendizado</td>\n",
       "      <td>Não, acredito que o que tem no museu é o sufic...</td>\n",
       "      <td>NaN</td>\n",
       "      <td>NaN</td>\n",
       "      <td>NaN</td>\n",
       "      <td>Não</td>\n",
       "    </tr>\n",
       "    <tr>\n",
       "      <th>3</th>\n",
       "      <td>4</td>\n",
       "      <td>2024-08-16 12:19:24</td>\n",
       "      <td>2024-08-16 12:20:34</td>\n",
       "      <td>anonymous</td>\n",
       "      <td>NaN</td>\n",
       "      <td>NaN</td>\n",
       "      <td>Menos de 18 anos</td>\n",
       "      <td>Masculino</td>\n",
       "      <td>Cursando ensino médio</td>\n",
       "      <td>Classe B: entre R$ 7,1 mil e R$ 22 mil</td>\n",
       "      <td>...</td>\n",
       "      <td>Não</td>\n",
       "      <td>Sim</td>\n",
       "      <td>Sem um guia/planejamento para ver as obras.</td>\n",
       "      <td>Não</td>\n",
       "      <td>Lazer</td>\n",
       "      <td>Sim, sinto falta de mais informações</td>\n",
       "      <td>Não, apenas me conformo</td>\n",
       "      <td>NaN</td>\n",
       "      <td>NaN</td>\n",
       "      <td>Não</td>\n",
       "    </tr>\n",
       "    <tr>\n",
       "      <th>4</th>\n",
       "      <td>5</td>\n",
       "      <td>2024-08-16 12:19:43</td>\n",
       "      <td>2024-08-16 12:21:36</td>\n",
       "      <td>anonymous</td>\n",
       "      <td>NaN</td>\n",
       "      <td>NaN</td>\n",
       "      <td>Entre 46 e 59 anos</td>\n",
       "      <td>Masculino</td>\n",
       "      <td>Ensino superior concluído</td>\n",
       "      <td>Classe A: superior a R$ 22 mil</td>\n",
       "      <td>...</td>\n",
       "      <td>Sim</td>\n",
       "      <td>Não</td>\n",
       "      <td>Planejo minha rota antes.</td>\n",
       "      <td>Sim</td>\n",
       "      <td>Inspiração</td>\n",
       "      <td>Sim, sinto falta de mais informações</td>\n",
       "      <td>Não, apenas me conformo</td>\n",
       "      <td>NaN</td>\n",
       "      <td>NaN</td>\n",
       "      <td>Não</td>\n",
       "    </tr>\n",
       "  </tbody>\n",
       "</table>\n",
       "<p>5 rows × 23 columns</p>\n",
       "</div>"
      ],
      "text/plain": [
       "   ID      Hora de início   Hora de conclusão     E-mail  Nome  \\\n",
       "0   1 2024-08-16 11:18:14 2024-08-16 11:20:21  anonymous   NaN   \n",
       "1   2 2024-08-16 12:18:44 2024-08-16 12:19:31  anonymous   NaN   \n",
       "2   3 2024-08-16 12:19:26 2024-08-16 12:20:28  anonymous   NaN   \n",
       "3   4 2024-08-16 12:19:24 2024-08-16 12:20:34  anonymous   NaN   \n",
       "4   5 2024-08-16 12:19:43 2024-08-16 12:21:36  anonymous   NaN   \n",
       "\n",
       "   Hora da última modificação Em qual faixa etária você se encaixa?  \\\n",
       "0                         NaN                      Menos de 18 anos   \n",
       "1                         NaN                    Entre 25 e 35 anos   \n",
       "2                         NaN                      Menos de 18 anos   \n",
       "3                         NaN                      Menos de 18 anos   \n",
       "4                         NaN                    Entre 46 e 59 anos   \n",
       "\n",
       "  Com qual gênero você se identifica? Qual seu nível de formação atual?  \\\n",
       "0                           Masculino             Cursando ensino médio   \n",
       "1                            Feminino         Ensino superior concluído   \n",
       "2                            Feminino             Cursando ensino médio   \n",
       "3                           Masculino             Cursando ensino médio   \n",
       "4                           Masculino         Ensino superior concluído   \n",
       "\n",
       "  Qual a renda per capita da sua casa? (A renda per capita é calculada somando a renda de cada indivíduo da casa e dividindo pela quantidade de pessoas)  \\\n",
       "0                        Classes D/E: até R$ 2,9 mil                                                                                                       \n",
       "1            Classe C: entre R$ 2,9 mil e R$ 7,1 mil                                                                                                       \n",
       "2            Classe C: entre R$ 2,9 mil e R$ 7,1 mil                                                                                                       \n",
       "3             Classe B: entre R$ 7,1 mil e R$ 22 mil                                                                                                       \n",
       "4                     Classe A: superior a R$ 22 mil                                                                                                       \n",
       "\n",
       "   ... Você já participou de algum curso ou atividade relacionada à arte?  \\\n",
       "0  ...                                                Não                   \n",
       "1  ...                                                NaN                   \n",
       "2  ...                                                Sim                   \n",
       "3  ...                                                Não                   \n",
       "4  ...                                                Sim                   \n",
       "\n",
       "  Você segue artístas ou páginas relacionadas à arte nas rede sociais?  \\\n",
       "0                                                Sim                     \n",
       "1                                                NaN                     \n",
       "2                                                Sim                     \n",
       "3                                                Sim                     \n",
       "4                                                Não                     \n",
       "\n",
       "  Como é sua experiência ao visitar um museu normalmente? Caso nunca tenha visitado, selecione a que você acredita que seguiria.  \\\n",
       "0        Sem um guia/planejamento para ver as obras.                                                                               \n",
       "1                                                NaN                                                                               \n",
       "2        Sem um guia/planejamento para ver as obras.                                                                               \n",
       "3        Sem um guia/planejamento para ver as obras.                                                                               \n",
       "4                          Planejo minha rota antes.                                                                               \n",
       "\n",
       "  Você já usou um aplicativo de um museu ou relacionado à arte?  \\\n",
       "0                                                Não              \n",
       "1                                                NaN              \n",
       "2                                                Não              \n",
       "3                                                Não              \n",
       "4                                                Sim              \n",
       "\n",
       "  O que mais te atrai em visitar museus ou exposições de arte?  \\\n",
       "0                                              Lazer             \n",
       "1                                                NaN             \n",
       "2                                        Aprendizado             \n",
       "3                                              Lazer             \n",
       "4                                         Inspiração             \n",
       "\n",
       "  Você sente falta de mais informações sobre as obras nos museus?  \\\n",
       "0               Sim, sinto falta de mais informações                \n",
       "1                                                NaN                \n",
       "2  Não, acredito que o que tem no museu é o sufic...                \n",
       "3               Sim, sinto falta de mais informações                \n",
       "4               Sim, sinto falta de mais informações                \n",
       "\n",
       "  Você procura saber sobre essas informações faltantes?  \\\n",
       "0                                       Sim, procuro      \n",
       "1                                                NaN      \n",
       "2                                                NaN      \n",
       "3                            Não, apenas me conformo      \n",
       "4                            Não, apenas me conformo      \n",
       "\n",
       "  De que forma você costuma buscar essas informações?  \\\n",
       "0  Busca em navegadores (Google, Yahoo, Edge, Ope...    \n",
       "1                                                NaN    \n",
       "2                                                NaN    \n",
       "3                                                NaN    \n",
       "4                                                NaN    \n",
       "\n",
       "  Você encontra o que precisa/esperava ao pesquisar? Usaria o aplicativo?  \n",
       "0                                                Não                  Sim  \n",
       "1                                                NaN                  Não  \n",
       "2                                                NaN                  Não  \n",
       "3                                                NaN                  Não  \n",
       "4                                                NaN                  Não  \n",
       "\n",
       "[5 rows x 23 columns]"
      ]
     },
     "execution_count": 162,
     "metadata": {},
     "output_type": "execute_result"
    }
   ],
   "source": [
    "dados = pd.read_excel('dados_possiveis_usuarios_c_label.xlsx')\n",
    "teste = pd.read_csv('Dados_de_Personas_com_Mais_Variedade_de_Respostas.csv')\n",
    "dados.head()"
   ]
  },
  {
   "cell_type": "code",
   "execution_count": 163,
   "metadata": {},
   "outputs": [
    {
     "data": {
      "text/plain": [
       "Index(['ID', 'Hora de início', 'Hora de conclusão', 'E-mail', 'Nome',\n",
       "       'Hora da última modificação', 'Em qual faixa etária você se encaixa?',\n",
       "       'Com qual gênero você se identifica?',\n",
       "       'Qual seu nível de formação atual?',\n",
       "       'Qual a renda per capita da sua casa? (A renda per capita é calculada somando a renda de cada indivíduo da casa e dividindo pela quantidade de pessoas)',\n",
       "       'Há quanto tempo você se interessa por arte?',\n",
       "       'Qual das opções de arte abaixo você mais gosta?',\n",
       "       'Com que frequência você vai aos museus?',\n",
       "       'Você já participou de algum curso ou atividade relacionada à arte?',\n",
       "       'Você segue artístas ou páginas relacionadas à arte nas rede sociais?',\n",
       "       'Como é sua experiência ao visitar um museu normalmente? Caso nunca tenha visitado, selecione a que você acredita que seguiria.',\n",
       "       'Você já usou um aplicativo de um museu ou relacionado à arte?',\n",
       "       'O que mais te atrai em visitar museus ou exposições de arte?',\n",
       "       'Você sente falta de mais informações sobre as obras nos museus?',\n",
       "       'Você procura saber sobre essas informações faltantes?',\n",
       "       'De que forma você costuma buscar essas informações?',\n",
       "       'Você encontra o que precisa/esperava ao pesquisar?',\n",
       "       'Usaria o aplicativo?'],\n",
       "      dtype='object')"
      ]
     },
     "execution_count": 163,
     "metadata": {},
     "output_type": "execute_result"
    }
   ],
   "source": [
    "dados.columns"
   ]
  },
  {
   "cell_type": "code",
   "execution_count": 164,
   "metadata": {},
   "outputs": [
    {
     "data": {
      "text/html": [
       "<div>\n",
       "<style scoped>\n",
       "    .dataframe tbody tr th:only-of-type {\n",
       "        vertical-align: middle;\n",
       "    }\n",
       "\n",
       "    .dataframe tbody tr th {\n",
       "        vertical-align: top;\n",
       "    }\n",
       "\n",
       "    .dataframe thead th {\n",
       "        text-align: right;\n",
       "    }\n",
       "</style>\n",
       "<table border=\"1\" class=\"dataframe\">\n",
       "  <thead>\n",
       "    <tr style=\"text-align: right;\">\n",
       "      <th></th>\n",
       "      <th>Em qual faixa etária você se encaixa?</th>\n",
       "      <th>Qual a renda per capita da sua casa? (A renda per capita é calculada somando a renda de cada indivíduo da casa e dividindo pela quantidade de pessoas)</th>\n",
       "      <th>Há quanto tempo você se interessa por arte?</th>\n",
       "      <th>Qual das opções de arte abaixo você mais gosta?</th>\n",
       "      <th>Com que frequência você vai aos museus?</th>\n",
       "      <th>Você já participou de algum curso ou atividade relacionada à arte?</th>\n",
       "      <th>Você segue artístas ou páginas relacionadas à arte nas rede sociais?</th>\n",
       "      <th>Como é sua experiência ao visitar um museu normalmente? Caso nunca tenha visitado, selecione a que você acredita que seguiria.</th>\n",
       "      <th>Você já usou um aplicativo de um museu ou relacionado à arte?</th>\n",
       "      <th>O que mais te atrai em visitar museus ou exposições de arte?</th>\n",
       "      <th>Você sente falta de mais informações sobre as obras nos museus?</th>\n",
       "      <th>Você procura saber sobre essas informações faltantes?</th>\n",
       "      <th>De que forma você costuma buscar essas informações?</th>\n",
       "      <th>Você encontra o que precisa/esperava ao pesquisar?</th>\n",
       "      <th>Usaria o aplicativo?</th>\n",
       "    </tr>\n",
       "  </thead>\n",
       "  <tbody>\n",
       "    <tr>\n",
       "      <th>0</th>\n",
       "      <td>Menos de 18 anos</td>\n",
       "      <td>Classes D/E: até R$ 2,9 mil</td>\n",
       "      <td>Menos de 2 anos</td>\n",
       "      <td>Fotografia</td>\n",
       "      <td>Raramente (uma vez ao ano)</td>\n",
       "      <td>Não</td>\n",
       "      <td>Sim</td>\n",
       "      <td>Sem um guia/planejamento para ver as obras.</td>\n",
       "      <td>Não</td>\n",
       "      <td>Lazer</td>\n",
       "      <td>Sim, sinto falta de mais informações</td>\n",
       "      <td>Sim, procuro</td>\n",
       "      <td>Busca em navegadores (Google, Yahoo, Edge, Ope...</td>\n",
       "      <td>Não</td>\n",
       "      <td>Sim</td>\n",
       "    </tr>\n",
       "    <tr>\n",
       "      <th>1</th>\n",
       "      <td>Entre 25 e 35 anos</td>\n",
       "      <td>Classe C: entre R$ 2,9 mil e R$ 7,1 mil</td>\n",
       "      <td>Não me interesso</td>\n",
       "      <td>NaN</td>\n",
       "      <td>NaN</td>\n",
       "      <td>NaN</td>\n",
       "      <td>NaN</td>\n",
       "      <td>NaN</td>\n",
       "      <td>NaN</td>\n",
       "      <td>NaN</td>\n",
       "      <td>NaN</td>\n",
       "      <td>NaN</td>\n",
       "      <td>NaN</td>\n",
       "      <td>NaN</td>\n",
       "      <td>Não</td>\n",
       "    </tr>\n",
       "    <tr>\n",
       "      <th>2</th>\n",
       "      <td>Menos de 18 anos</td>\n",
       "      <td>Classe C: entre R$ 2,9 mil e R$ 7,1 mil</td>\n",
       "      <td>De 2 a 4 anos</td>\n",
       "      <td>Escultura</td>\n",
       "      <td>Ocasionalmente (máximo três vezes ao ano)</td>\n",
       "      <td>Sim</td>\n",
       "      <td>Sim</td>\n",
       "      <td>Sem um guia/planejamento para ver as obras.</td>\n",
       "      <td>Não</td>\n",
       "      <td>Aprendizado</td>\n",
       "      <td>Não, acredito que o que tem no museu é o sufic...</td>\n",
       "      <td>NaN</td>\n",
       "      <td>NaN</td>\n",
       "      <td>NaN</td>\n",
       "      <td>Não</td>\n",
       "    </tr>\n",
       "    <tr>\n",
       "      <th>3</th>\n",
       "      <td>Menos de 18 anos</td>\n",
       "      <td>Classe B: entre R$ 7,1 mil e R$ 22 mil</td>\n",
       "      <td>Estou iniciando agora</td>\n",
       "      <td>Pintura</td>\n",
       "      <td>Ocasionalmente (máximo três vezes ao ano)</td>\n",
       "      <td>Não</td>\n",
       "      <td>Sim</td>\n",
       "      <td>Sem um guia/planejamento para ver as obras.</td>\n",
       "      <td>Não</td>\n",
       "      <td>Lazer</td>\n",
       "      <td>Sim, sinto falta de mais informações</td>\n",
       "      <td>Não, apenas me conformo</td>\n",
       "      <td>NaN</td>\n",
       "      <td>NaN</td>\n",
       "      <td>Não</td>\n",
       "    </tr>\n",
       "    <tr>\n",
       "      <th>4</th>\n",
       "      <td>Entre 46 e 59 anos</td>\n",
       "      <td>Classe A: superior a R$ 22 mil</td>\n",
       "      <td>Há mais de 10 anos</td>\n",
       "      <td>Fotografia</td>\n",
       "      <td>Muito frequentemente (mais de cinco vezes ao ano)</td>\n",
       "      <td>Sim</td>\n",
       "      <td>Não</td>\n",
       "      <td>Planejo minha rota antes.</td>\n",
       "      <td>Sim</td>\n",
       "      <td>Inspiração</td>\n",
       "      <td>Sim, sinto falta de mais informações</td>\n",
       "      <td>Não, apenas me conformo</td>\n",
       "      <td>NaN</td>\n",
       "      <td>NaN</td>\n",
       "      <td>Não</td>\n",
       "    </tr>\n",
       "    <tr>\n",
       "      <th>...</th>\n",
       "      <td>...</td>\n",
       "      <td>...</td>\n",
       "      <td>...</td>\n",
       "      <td>...</td>\n",
       "      <td>...</td>\n",
       "      <td>...</td>\n",
       "      <td>...</td>\n",
       "      <td>...</td>\n",
       "      <td>...</td>\n",
       "      <td>...</td>\n",
       "      <td>...</td>\n",
       "      <td>...</td>\n",
       "      <td>...</td>\n",
       "      <td>...</td>\n",
       "      <td>...</td>\n",
       "    </tr>\n",
       "    <tr>\n",
       "      <th>243</th>\n",
       "      <td>60+ anos</td>\n",
       "      <td>Classe C: entre R$ 2,9 mil e R$ 7,1 mil</td>\n",
       "      <td>Há mais de 10 anos</td>\n",
       "      <td>Pintura</td>\n",
       "      <td>Ocasionalmente (máximo três vezes ao ano)</td>\n",
       "      <td>Não</td>\n",
       "      <td>Não</td>\n",
       "      <td>Sem um guia/planejamento para ver as obras.</td>\n",
       "      <td>Não</td>\n",
       "      <td>Inspiração</td>\n",
       "      <td>Não, acredito que o que tem no museu é o sufic...</td>\n",
       "      <td>NaN</td>\n",
       "      <td>NaN</td>\n",
       "      <td>NaN</td>\n",
       "      <td>Não</td>\n",
       "    </tr>\n",
       "    <tr>\n",
       "      <th>244</th>\n",
       "      <td>Entre 25 e 35 anos</td>\n",
       "      <td>Classe C: entre R$ 2,9 mil e R$ 7,1 mil</td>\n",
       "      <td>Estou iniciando agora</td>\n",
       "      <td>Pintura</td>\n",
       "      <td>Raramente (uma vez ao ano)</td>\n",
       "      <td>Não</td>\n",
       "      <td>Não</td>\n",
       "      <td>Sem um guia/planejamento para ver as obras.</td>\n",
       "      <td>Não</td>\n",
       "      <td>Aprendizado</td>\n",
       "      <td>Não, acredito que o que tem no museu é o sufic...</td>\n",
       "      <td>NaN</td>\n",
       "      <td>NaN</td>\n",
       "      <td>NaN</td>\n",
       "      <td>Não</td>\n",
       "    </tr>\n",
       "    <tr>\n",
       "      <th>245</th>\n",
       "      <td>Menos de 18 anos</td>\n",
       "      <td>Classe B: entre R$ 7,1 mil e R$ 22 mil</td>\n",
       "      <td>Estou iniciando agora</td>\n",
       "      <td>Fotografia</td>\n",
       "      <td>Raramente (uma vez ao ano)</td>\n",
       "      <td>Não</td>\n",
       "      <td>Sim</td>\n",
       "      <td>Sem um guia/planejamento para ver as obras.</td>\n",
       "      <td>Não</td>\n",
       "      <td>Inspiração</td>\n",
       "      <td>Sim, sinto falta de mais informações</td>\n",
       "      <td>Sim, procuro</td>\n",
       "      <td>Busca em navegadores (Google, Yahoo, Edge, Ope...</td>\n",
       "      <td>Não</td>\n",
       "      <td>Sim</td>\n",
       "    </tr>\n",
       "    <tr>\n",
       "      <th>246</th>\n",
       "      <td>Entre 36 e 45 anos</td>\n",
       "      <td>Classe B: entre R$ 7,1 mil e R$ 22 mil</td>\n",
       "      <td>Menos de 2 anos</td>\n",
       "      <td>Arte digital</td>\n",
       "      <td>Raramente (uma vez ao ano)</td>\n",
       "      <td>Não</td>\n",
       "      <td>Não</td>\n",
       "      <td>Sem um guia/planejamento para ver as obras.</td>\n",
       "      <td>Não</td>\n",
       "      <td>Lazer</td>\n",
       "      <td>Sim, sinto falta de mais informações</td>\n",
       "      <td>Não, apenas me conformo</td>\n",
       "      <td>NaN</td>\n",
       "      <td>NaN</td>\n",
       "      <td>Não</td>\n",
       "    </tr>\n",
       "    <tr>\n",
       "      <th>247</th>\n",
       "      <td>Menos de 18 anos</td>\n",
       "      <td>Classe C: entre R$ 2,9 mil e R$ 7,1 mil</td>\n",
       "      <td>De 5 a 9 anos</td>\n",
       "      <td>Pintura</td>\n",
       "      <td>Raramente (uma vez ao ano)</td>\n",
       "      <td>Sim</td>\n",
       "      <td>Sim</td>\n",
       "      <td>Sem um guia/planejamento para ver as obras.</td>\n",
       "      <td>Não</td>\n",
       "      <td>Lazer</td>\n",
       "      <td>Não, acredito que o que tem no museu é o sufic...</td>\n",
       "      <td>NaN</td>\n",
       "      <td>NaN</td>\n",
       "      <td>NaN</td>\n",
       "      <td>Não</td>\n",
       "    </tr>\n",
       "  </tbody>\n",
       "</table>\n",
       "<p>248 rows × 15 columns</p>\n",
       "</div>"
      ],
      "text/plain": [
       "    Em qual faixa etária você se encaixa?  \\\n",
       "0                        Menos de 18 anos   \n",
       "1                      Entre 25 e 35 anos   \n",
       "2                        Menos de 18 anos   \n",
       "3                        Menos de 18 anos   \n",
       "4                      Entre 46 e 59 anos   \n",
       "..                                    ...   \n",
       "243                              60+ anos   \n",
       "244                    Entre 25 e 35 anos   \n",
       "245                      Menos de 18 anos   \n",
       "246                    Entre 36 e 45 anos   \n",
       "247                      Menos de 18 anos   \n",
       "\n",
       "    Qual a renda per capita da sua casa? (A renda per capita é calculada somando a renda de cada indivíduo da casa e dividindo pela quantidade de pessoas)  \\\n",
       "0                          Classes D/E: até R$ 2,9 mil                                                                                                       \n",
       "1              Classe C: entre R$ 2,9 mil e R$ 7,1 mil                                                                                                       \n",
       "2              Classe C: entre R$ 2,9 mil e R$ 7,1 mil                                                                                                       \n",
       "3               Classe B: entre R$ 7,1 mil e R$ 22 mil                                                                                                       \n",
       "4                       Classe A: superior a R$ 22 mil                                                                                                       \n",
       "..                                                 ...                                                                                                       \n",
       "243            Classe C: entre R$ 2,9 mil e R$ 7,1 mil                                                                                                       \n",
       "244            Classe C: entre R$ 2,9 mil e R$ 7,1 mil                                                                                                       \n",
       "245             Classe B: entre R$ 7,1 mil e R$ 22 mil                                                                                                       \n",
       "246             Classe B: entre R$ 7,1 mil e R$ 22 mil                                                                                                       \n",
       "247            Classe C: entre R$ 2,9 mil e R$ 7,1 mil                                                                                                       \n",
       "\n",
       "    Há quanto tempo você se interessa por arte?  \\\n",
       "0                               Menos de 2 anos   \n",
       "1                              Não me interesso   \n",
       "2                                 De 2 a 4 anos   \n",
       "3                         Estou iniciando agora   \n",
       "4                            Há mais de 10 anos   \n",
       "..                                          ...   \n",
       "243                          Há mais de 10 anos   \n",
       "244                       Estou iniciando agora   \n",
       "245                       Estou iniciando agora   \n",
       "246                             Menos de 2 anos   \n",
       "247                               De 5 a 9 anos   \n",
       "\n",
       "    Qual das opções de arte abaixo você mais gosta?  \\\n",
       "0                                        Fotografia   \n",
       "1                                               NaN   \n",
       "2                                         Escultura   \n",
       "3                                           Pintura   \n",
       "4                                        Fotografia   \n",
       "..                                              ...   \n",
       "243                                         Pintura   \n",
       "244                                         Pintura   \n",
       "245                                      Fotografia   \n",
       "246                                    Arte digital   \n",
       "247                                         Pintura   \n",
       "\n",
       "               Com que frequência você vai aos museus?  \\\n",
       "0                           Raramente (uma vez ao ano)   \n",
       "1                                                  NaN   \n",
       "2            Ocasionalmente (máximo três vezes ao ano)   \n",
       "3            Ocasionalmente (máximo três vezes ao ano)   \n",
       "4    Muito frequentemente (mais de cinco vezes ao ano)   \n",
       "..                                                 ...   \n",
       "243          Ocasionalmente (máximo três vezes ao ano)   \n",
       "244                         Raramente (uma vez ao ano)   \n",
       "245                         Raramente (uma vez ao ano)   \n",
       "246                         Raramente (uma vez ao ano)   \n",
       "247                         Raramente (uma vez ao ano)   \n",
       "\n",
       "    Você já participou de algum curso ou atividade relacionada à arte?  \\\n",
       "0                                                  Não                   \n",
       "1                                                  NaN                   \n",
       "2                                                  Sim                   \n",
       "3                                                  Não                   \n",
       "4                                                  Sim                   \n",
       "..                                                 ...                   \n",
       "243                                                Não                   \n",
       "244                                                Não                   \n",
       "245                                                Não                   \n",
       "246                                                Não                   \n",
       "247                                                Sim                   \n",
       "\n",
       "    Você segue artístas ou páginas relacionadas à arte nas rede sociais?  \\\n",
       "0                                                  Sim                     \n",
       "1                                                  NaN                     \n",
       "2                                                  Sim                     \n",
       "3                                                  Sim                     \n",
       "4                                                  Não                     \n",
       "..                                                 ...                     \n",
       "243                                                Não                     \n",
       "244                                                Não                     \n",
       "245                                                Sim                     \n",
       "246                                                Não                     \n",
       "247                                                Sim                     \n",
       "\n",
       "    Como é sua experiência ao visitar um museu normalmente? Caso nunca tenha visitado, selecione a que você acredita que seguiria.  \\\n",
       "0          Sem um guia/planejamento para ver as obras.                                                                               \n",
       "1                                                  NaN                                                                               \n",
       "2          Sem um guia/planejamento para ver as obras.                                                                               \n",
       "3          Sem um guia/planejamento para ver as obras.                                                                               \n",
       "4                            Planejo minha rota antes.                                                                               \n",
       "..                                                 ...                                                                               \n",
       "243        Sem um guia/planejamento para ver as obras.                                                                               \n",
       "244        Sem um guia/planejamento para ver as obras.                                                                               \n",
       "245        Sem um guia/planejamento para ver as obras.                                                                               \n",
       "246        Sem um guia/planejamento para ver as obras.                                                                               \n",
       "247        Sem um guia/planejamento para ver as obras.                                                                               \n",
       "\n",
       "    Você já usou um aplicativo de um museu ou relacionado à arte?  \\\n",
       "0                                                  Não              \n",
       "1                                                  NaN              \n",
       "2                                                  Não              \n",
       "3                                                  Não              \n",
       "4                                                  Sim              \n",
       "..                                                 ...              \n",
       "243                                                Não              \n",
       "244                                                Não              \n",
       "245                                                Não              \n",
       "246                                                Não              \n",
       "247                                                Não              \n",
       "\n",
       "    O que mais te atrai em visitar museus ou exposições de arte?  \\\n",
       "0                                                Lazer             \n",
       "1                                                  NaN             \n",
       "2                                          Aprendizado             \n",
       "3                                                Lazer             \n",
       "4                                           Inspiração             \n",
       "..                                                 ...             \n",
       "243                                         Inspiração             \n",
       "244                                        Aprendizado             \n",
       "245                                         Inspiração             \n",
       "246                                              Lazer             \n",
       "247                                              Lazer             \n",
       "\n",
       "    Você sente falta de mais informações sobre as obras nos museus?  \\\n",
       "0                 Sim, sinto falta de mais informações                \n",
       "1                                                  NaN                \n",
       "2    Não, acredito que o que tem no museu é o sufic...                \n",
       "3                 Sim, sinto falta de mais informações                \n",
       "4                 Sim, sinto falta de mais informações                \n",
       "..                                                 ...                \n",
       "243  Não, acredito que o que tem no museu é o sufic...                \n",
       "244  Não, acredito que o que tem no museu é o sufic...                \n",
       "245               Sim, sinto falta de mais informações                \n",
       "246               Sim, sinto falta de mais informações                \n",
       "247  Não, acredito que o que tem no museu é o sufic...                \n",
       "\n",
       "    Você procura saber sobre essas informações faltantes?  \\\n",
       "0                                         Sim, procuro      \n",
       "1                                                  NaN      \n",
       "2                                                  NaN      \n",
       "3                              Não, apenas me conformo      \n",
       "4                              Não, apenas me conformo      \n",
       "..                                                 ...      \n",
       "243                                                NaN      \n",
       "244                                                NaN      \n",
       "245                                       Sim, procuro      \n",
       "246                            Não, apenas me conformo      \n",
       "247                                                NaN      \n",
       "\n",
       "    De que forma você costuma buscar essas informações?  \\\n",
       "0    Busca em navegadores (Google, Yahoo, Edge, Ope...    \n",
       "1                                                  NaN    \n",
       "2                                                  NaN    \n",
       "3                                                  NaN    \n",
       "4                                                  NaN    \n",
       "..                                                 ...    \n",
       "243                                                NaN    \n",
       "244                                                NaN    \n",
       "245  Busca em navegadores (Google, Yahoo, Edge, Ope...    \n",
       "246                                                NaN    \n",
       "247                                                NaN    \n",
       "\n",
       "    Você encontra o que precisa/esperava ao pesquisar? Usaria o aplicativo?  \n",
       "0                                                  Não                  Sim  \n",
       "1                                                  NaN                  Não  \n",
       "2                                                  NaN                  Não  \n",
       "3                                                  NaN                  Não  \n",
       "4                                                  NaN                  Não  \n",
       "..                                                 ...                  ...  \n",
       "243                                                NaN                  Não  \n",
       "244                                                NaN                  Não  \n",
       "245                                                Não                  Sim  \n",
       "246                                                NaN                  Não  \n",
       "247                                                NaN                  Não  \n",
       "\n",
       "[248 rows x 15 columns]"
      ]
     },
     "execution_count": 164,
     "metadata": {},
     "output_type": "execute_result"
    }
   ],
   "source": [
    "dados = dados.drop(columns=['ID', 'Hora de início', 'Hora de conclusão', 'E-mail', 'Nome',\n",
    "       'Hora da última modificação', 'Com qual gênero você se identifica?', 'Qual seu nível de formação atual?'])\n",
    "dados"
   ]
  },
  {
   "cell_type": "markdown",
   "metadata": {},
   "source": [
    "## Tratando base"
   ]
  },
  {
   "cell_type": "code",
   "execution_count": 165,
   "metadata": {},
   "outputs": [],
   "source": [
    "colunas_dados = dados.columns\n",
    "dados.rename(columns={colunas_dados[1]: 'Qual a renda per capita da sua casa?'}, inplace = True)"
   ]
  },
  {
   "cell_type": "code",
   "execution_count": 166,
   "metadata": {},
   "outputs": [
    {
     "data": {
      "text/plain": [
       "Em qual faixa etária você se encaixa?                                                                                             0\n",
       "Qual a renda per capita da sua casa?                                                                                              0\n",
       "Há quanto tempo você se interessa por arte?                                                                                       0\n",
       "Qual das opções de arte abaixo você mais gosta?                                                                                   0\n",
       "Com que frequência você vai aos museus?                                                                                           0\n",
       "Você já participou de algum curso ou atividade relacionada à arte?                                                                0\n",
       "Você segue artístas ou páginas relacionadas à arte nas rede sociais?                                                              0\n",
       "Como é sua experiência ao visitar um museu normalmente? Caso nunca tenha visitado, selecione a que você acredita que seguiria.    0\n",
       "Você já usou um aplicativo de um museu ou relacionado à arte?                                                                     0\n",
       "O que mais te atrai em visitar museus ou exposições de arte?                                                                      0\n",
       "Você sente falta de mais informações sobre as obras nos museus?                                                                   0\n",
       "Você procura saber sobre essas informações faltantes?                                                                             0\n",
       "De que forma você costuma buscar essas informações?                                                                               0\n",
       "Você encontra o que precisa/esperava ao pesquisar?                                                                                0\n",
       "Usaria o aplicativo?                                                                                                              0\n",
       "dtype: int64"
      ]
     },
     "execution_count": 166,
     "metadata": {},
     "output_type": "execute_result"
    }
   ],
   "source": [
    "dados.fillna({'Qual das opções de arte abaixo você mais gosta?': 'Não se interessa por arte', 'Com que frequência você vai aos museus?': 'Não se interessa por arte', 'Você já participou de algum curso ou atividade relacionada à arte?': 'Não se interessa por arte', 'Você segue artístas ou páginas relacionadas à arte nas rede sociais?': 'Não se interessa por arte', 'Como é sua experiência ao visitar um museu normalmente? Caso nunca tenha visitado, selecione a que você acredita que seguiria.': 'Não se interessa por arte', 'Você já usou um aplicativo de um museu ou relacionado à arte?': 'Não se interessa por arte', 'O que mais te atrai em visitar museus ou exposições de arte?': 'Não se interessa por arte'}, inplace=True)\n",
    "dados.fillna({'Você sente falta de mais informações sobre as obras nos museus?': 'Não vai a museus'}, inplace=True)\n",
    "dados.fillna({'Você procura saber sobre essas informações faltantes?': 'Não sente falta de informações'}, inplace=True)\n",
    "dados.fillna({'De que forma você costuma buscar essas informações?': 'Não procura essas informações', 'Você encontra o que precisa/esperava ao pesquisar?': 'Não procura essas informações'}, inplace=True)\n",
    "\n",
    "dados.isna().sum()"
   ]
  },
  {
   "cell_type": "markdown",
   "metadata": {},
   "source": [
    "## Separando em atributo e label"
   ]
  },
  {
   "cell_type": "code",
   "execution_count": 167,
   "metadata": {},
   "outputs": [
    {
     "data": {
      "text/html": [
       "<div>\n",
       "<style scoped>\n",
       "    .dataframe tbody tr th:only-of-type {\n",
       "        vertical-align: middle;\n",
       "    }\n",
       "\n",
       "    .dataframe tbody tr th {\n",
       "        vertical-align: top;\n",
       "    }\n",
       "\n",
       "    .dataframe thead th {\n",
       "        text-align: right;\n",
       "    }\n",
       "</style>\n",
       "<table border=\"1\" class=\"dataframe\">\n",
       "  <thead>\n",
       "    <tr style=\"text-align: right;\">\n",
       "      <th></th>\n",
       "      <th>Em qual faixa etária você se encaixa?</th>\n",
       "      <th>Qual a renda per capita da sua casa?</th>\n",
       "      <th>Há quanto tempo você se interessa por arte?</th>\n",
       "      <th>Qual das opções de arte abaixo você mais gosta?</th>\n",
       "      <th>Com que frequência você vai aos museus?</th>\n",
       "      <th>Você já participou de algum curso ou atividade relacionada à arte?</th>\n",
       "      <th>Você segue artístas ou páginas relacionadas à arte nas rede sociais?</th>\n",
       "      <th>Como é sua experiência ao visitar um museu normalmente? Caso nunca tenha visitado, selecione a que você acredita que seguiria.</th>\n",
       "      <th>Você já usou um aplicativo de um museu ou relacionado à arte?</th>\n",
       "      <th>O que mais te atrai em visitar museus ou exposições de arte?</th>\n",
       "      <th>Você sente falta de mais informações sobre as obras nos museus?</th>\n",
       "      <th>Você procura saber sobre essas informações faltantes?</th>\n",
       "      <th>De que forma você costuma buscar essas informações?</th>\n",
       "      <th>Você encontra o que precisa/esperava ao pesquisar?</th>\n",
       "    </tr>\n",
       "  </thead>\n",
       "  <tbody>\n",
       "    <tr>\n",
       "      <th>0</th>\n",
       "      <td>Menos de 18 anos</td>\n",
       "      <td>Classes D/E: até R$ 2,9 mil</td>\n",
       "      <td>Menos de 2 anos</td>\n",
       "      <td>Fotografia</td>\n",
       "      <td>Raramente (uma vez ao ano)</td>\n",
       "      <td>Não</td>\n",
       "      <td>Sim</td>\n",
       "      <td>Sem um guia/planejamento para ver as obras.</td>\n",
       "      <td>Não</td>\n",
       "      <td>Lazer</td>\n",
       "      <td>Sim, sinto falta de mais informações</td>\n",
       "      <td>Sim, procuro</td>\n",
       "      <td>Busca em navegadores (Google, Yahoo, Edge, Ope...</td>\n",
       "      <td>Não</td>\n",
       "    </tr>\n",
       "    <tr>\n",
       "      <th>1</th>\n",
       "      <td>Entre 25 e 35 anos</td>\n",
       "      <td>Classe C: entre R$ 2,9 mil e R$ 7,1 mil</td>\n",
       "      <td>Não me interesso</td>\n",
       "      <td>Não se interessa por arte</td>\n",
       "      <td>Não se interessa por arte</td>\n",
       "      <td>Não se interessa por arte</td>\n",
       "      <td>Não se interessa por arte</td>\n",
       "      <td>Não se interessa por arte</td>\n",
       "      <td>Não se interessa por arte</td>\n",
       "      <td>Não se interessa por arte</td>\n",
       "      <td>Não vai a museus</td>\n",
       "      <td>Não sente falta de informações</td>\n",
       "      <td>Não procura essas informações</td>\n",
       "      <td>Não procura essas informações</td>\n",
       "    </tr>\n",
       "    <tr>\n",
       "      <th>2</th>\n",
       "      <td>Menos de 18 anos</td>\n",
       "      <td>Classe C: entre R$ 2,9 mil e R$ 7,1 mil</td>\n",
       "      <td>De 2 a 4 anos</td>\n",
       "      <td>Escultura</td>\n",
       "      <td>Ocasionalmente (máximo três vezes ao ano)</td>\n",
       "      <td>Sim</td>\n",
       "      <td>Sim</td>\n",
       "      <td>Sem um guia/planejamento para ver as obras.</td>\n",
       "      <td>Não</td>\n",
       "      <td>Aprendizado</td>\n",
       "      <td>Não, acredito que o que tem no museu é o sufic...</td>\n",
       "      <td>Não sente falta de informações</td>\n",
       "      <td>Não procura essas informações</td>\n",
       "      <td>Não procura essas informações</td>\n",
       "    </tr>\n",
       "    <tr>\n",
       "      <th>3</th>\n",
       "      <td>Menos de 18 anos</td>\n",
       "      <td>Classe B: entre R$ 7,1 mil e R$ 22 mil</td>\n",
       "      <td>Estou iniciando agora</td>\n",
       "      <td>Pintura</td>\n",
       "      <td>Ocasionalmente (máximo três vezes ao ano)</td>\n",
       "      <td>Não</td>\n",
       "      <td>Sim</td>\n",
       "      <td>Sem um guia/planejamento para ver as obras.</td>\n",
       "      <td>Não</td>\n",
       "      <td>Lazer</td>\n",
       "      <td>Sim, sinto falta de mais informações</td>\n",
       "      <td>Não, apenas me conformo</td>\n",
       "      <td>Não procura essas informações</td>\n",
       "      <td>Não procura essas informações</td>\n",
       "    </tr>\n",
       "    <tr>\n",
       "      <th>4</th>\n",
       "      <td>Entre 46 e 59 anos</td>\n",
       "      <td>Classe A: superior a R$ 22 mil</td>\n",
       "      <td>Há mais de 10 anos</td>\n",
       "      <td>Fotografia</td>\n",
       "      <td>Muito frequentemente (mais de cinco vezes ao ano)</td>\n",
       "      <td>Sim</td>\n",
       "      <td>Não</td>\n",
       "      <td>Planejo minha rota antes.</td>\n",
       "      <td>Sim</td>\n",
       "      <td>Inspiração</td>\n",
       "      <td>Sim, sinto falta de mais informações</td>\n",
       "      <td>Não, apenas me conformo</td>\n",
       "      <td>Não procura essas informações</td>\n",
       "      <td>Não procura essas informações</td>\n",
       "    </tr>\n",
       "  </tbody>\n",
       "</table>\n",
       "</div>"
      ],
      "text/plain": [
       "  Em qual faixa etária você se encaixa?  \\\n",
       "0                      Menos de 18 anos   \n",
       "1                    Entre 25 e 35 anos   \n",
       "2                      Menos de 18 anos   \n",
       "3                      Menos de 18 anos   \n",
       "4                    Entre 46 e 59 anos   \n",
       "\n",
       "      Qual a renda per capita da sua casa?  \\\n",
       "0              Classes D/E: até R$ 2,9 mil   \n",
       "1  Classe C: entre R$ 2,9 mil e R$ 7,1 mil   \n",
       "2  Classe C: entre R$ 2,9 mil e R$ 7,1 mil   \n",
       "3   Classe B: entre R$ 7,1 mil e R$ 22 mil   \n",
       "4           Classe A: superior a R$ 22 mil   \n",
       "\n",
       "  Há quanto tempo você se interessa por arte?  \\\n",
       "0                             Menos de 2 anos   \n",
       "1                            Não me interesso   \n",
       "2                               De 2 a 4 anos   \n",
       "3                       Estou iniciando agora   \n",
       "4                          Há mais de 10 anos   \n",
       "\n",
       "  Qual das opções de arte abaixo você mais gosta?  \\\n",
       "0                                      Fotografia   \n",
       "1                       Não se interessa por arte   \n",
       "2                                       Escultura   \n",
       "3                                         Pintura   \n",
       "4                                      Fotografia   \n",
       "\n",
       "             Com que frequência você vai aos museus?  \\\n",
       "0                         Raramente (uma vez ao ano)   \n",
       "1                          Não se interessa por arte   \n",
       "2          Ocasionalmente (máximo três vezes ao ano)   \n",
       "3          Ocasionalmente (máximo três vezes ao ano)   \n",
       "4  Muito frequentemente (mais de cinco vezes ao ano)   \n",
       "\n",
       "  Você já participou de algum curso ou atividade relacionada à arte?  \\\n",
       "0                                                Não                   \n",
       "1                          Não se interessa por arte                   \n",
       "2                                                Sim                   \n",
       "3                                                Não                   \n",
       "4                                                Sim                   \n",
       "\n",
       "  Você segue artístas ou páginas relacionadas à arte nas rede sociais?  \\\n",
       "0                                                Sim                     \n",
       "1                          Não se interessa por arte                     \n",
       "2                                                Sim                     \n",
       "3                                                Sim                     \n",
       "4                                                Não                     \n",
       "\n",
       "  Como é sua experiência ao visitar um museu normalmente? Caso nunca tenha visitado, selecione a que você acredita que seguiria.  \\\n",
       "0        Sem um guia/planejamento para ver as obras.                                                                               \n",
       "1                          Não se interessa por arte                                                                               \n",
       "2        Sem um guia/planejamento para ver as obras.                                                                               \n",
       "3        Sem um guia/planejamento para ver as obras.                                                                               \n",
       "4                          Planejo minha rota antes.                                                                               \n",
       "\n",
       "  Você já usou um aplicativo de um museu ou relacionado à arte?  \\\n",
       "0                                                Não              \n",
       "1                          Não se interessa por arte              \n",
       "2                                                Não              \n",
       "3                                                Não              \n",
       "4                                                Sim              \n",
       "\n",
       "  O que mais te atrai em visitar museus ou exposições de arte?  \\\n",
       "0                                              Lazer             \n",
       "1                          Não se interessa por arte             \n",
       "2                                        Aprendizado             \n",
       "3                                              Lazer             \n",
       "4                                         Inspiração             \n",
       "\n",
       "  Você sente falta de mais informações sobre as obras nos museus?  \\\n",
       "0               Sim, sinto falta de mais informações                \n",
       "1                                   Não vai a museus                \n",
       "2  Não, acredito que o que tem no museu é o sufic...                \n",
       "3               Sim, sinto falta de mais informações                \n",
       "4               Sim, sinto falta de mais informações                \n",
       "\n",
       "  Você procura saber sobre essas informações faltantes?  \\\n",
       "0                                       Sim, procuro      \n",
       "1                     Não sente falta de informações      \n",
       "2                     Não sente falta de informações      \n",
       "3                            Não, apenas me conformo      \n",
       "4                            Não, apenas me conformo      \n",
       "\n",
       "  De que forma você costuma buscar essas informações?  \\\n",
       "0  Busca em navegadores (Google, Yahoo, Edge, Ope...    \n",
       "1                      Não procura essas informações    \n",
       "2                      Não procura essas informações    \n",
       "3                      Não procura essas informações    \n",
       "4                      Não procura essas informações    \n",
       "\n",
       "  Você encontra o que precisa/esperava ao pesquisar?  \n",
       "0                                                Não  \n",
       "1                      Não procura essas informações  \n",
       "2                      Não procura essas informações  \n",
       "3                      Não procura essas informações  \n",
       "4                      Não procura essas informações  "
      ]
     },
     "metadata": {},
     "output_type": "display_data"
    },
    {
     "data": {
      "text/plain": [
       "0    Sim\n",
       "1    Não\n",
       "2    Não\n",
       "3    Não\n",
       "4    Não\n",
       "Name: Usaria o aplicativo?, dtype: object"
      ]
     },
     "metadata": {},
     "output_type": "display_data"
    }
   ],
   "source": [
    "df_y, df_x = dados['Usaria o aplicativo?'], dados.drop(columns=['Usaria o aplicativo?'])\n",
    "teste_y, teste_x = teste['Usaria o aplicativo?'], teste.drop(columns=['Usaria o aplicativo?'])\n",
    "display(df_x.head())\n",
    "display(df_y.head())"
   ]
  },
  {
   "cell_type": "code",
   "execution_count": 168,
   "metadata": {},
   "outputs": [
    {
     "data": {
      "text/plain": [
       "Index(['Em qual faixa etária você se encaixa?',\n",
       "       'Qual a renda per capita da sua casa?',\n",
       "       'Há quanto tempo você se interessa por arte?',\n",
       "       'Qual das opções de arte abaixo você mais gosta?',\n",
       "       'Com que frequência você vai aos museus?',\n",
       "       'Você já participou de algum curso ou atividade relacionada à arte?',\n",
       "       'Você segue artístas ou páginas relacionadas à arte nas rede sociais?',\n",
       "       'Como é sua experiência ao visitar um museu normalmente? Caso nunca tenha visitado, selecione a que você acredita que seguiria.',\n",
       "       'Você já usou um aplicativo de um museu ou relacionado à arte?',\n",
       "       'O que mais te atrai em visitar museus ou exposições de arte?',\n",
       "       'Você sente falta de mais informações sobre as obras nos museus?',\n",
       "       'Você procura saber sobre essas informações faltantes?',\n",
       "       'De que forma você costuma buscar essas informações?',\n",
       "       'Você encontra o que precisa/esperava ao pesquisar?'],\n",
       "      dtype='object')"
      ]
     },
     "execution_count": 168,
     "metadata": {},
     "output_type": "execute_result"
    }
   ],
   "source": [
    "df_x.columns"
   ]
  },
  {
   "cell_type": "markdown",
   "metadata": {},
   "source": [
    "# Modelos de exploração (testando diferentes tipos de algoritmos)"
   ]
  },
  {
   "cell_type": "markdown",
   "metadata": {},
   "source": [
    "Primeiro vamos explorar alguns dos algoritmos de modelo supervisionado sem adicionar os pesos as características"
   ]
  },
  {
   "cell_type": "markdown",
   "metadata": {},
   "source": [
    "## Tratando dataframe"
   ]
  },
  {
   "cell_type": "code",
   "execution_count": 169,
   "metadata": {},
   "outputs": [
    {
     "data": {
      "text/html": [
       "<div>\n",
       "<style scoped>\n",
       "    .dataframe tbody tr th:only-of-type {\n",
       "        vertical-align: middle;\n",
       "    }\n",
       "\n",
       "    .dataframe tbody tr th {\n",
       "        vertical-align: top;\n",
       "    }\n",
       "\n",
       "    .dataframe thead th {\n",
       "        text-align: right;\n",
       "    }\n",
       "</style>\n",
       "<table border=\"1\" class=\"dataframe\">\n",
       "  <thead>\n",
       "    <tr style=\"text-align: right;\">\n",
       "      <th></th>\n",
       "      <th>Em qual faixa etária você se encaixa?</th>\n",
       "      <th>Qual a renda per capita da sua casa?</th>\n",
       "      <th>Há quanto tempo você se interessa por arte?</th>\n",
       "      <th>Qual das opções de arte abaixo você mais gosta?</th>\n",
       "      <th>Com que frequência você vai aos museus?</th>\n",
       "      <th>Você já participou de algum curso ou atividade relacionada à arte?</th>\n",
       "      <th>Você segue artístas ou páginas relacionadas à arte nas rede sociais?</th>\n",
       "      <th>Como é sua experiência ao visitar um museu normalmente? Caso nunca tenha visitado, selecione a que você acredita que seguiria.</th>\n",
       "      <th>Você já usou um aplicativo de um museu ou relacionado à arte?</th>\n",
       "      <th>O que mais te atrai em visitar museus ou exposições de arte?</th>\n",
       "      <th>Você sente falta de mais informações sobre as obras nos museus?</th>\n",
       "      <th>Você procura saber sobre essas informações faltantes?</th>\n",
       "      <th>De que forma você costuma buscar essas informações?</th>\n",
       "      <th>Você encontra o que precisa/esperava ao pesquisar?</th>\n",
       "    </tr>\n",
       "  </thead>\n",
       "  <tbody>\n",
       "    <tr>\n",
       "      <th>0</th>\n",
       "      <td>5</td>\n",
       "      <td>3</td>\n",
       "      <td>4</td>\n",
       "      <td>4</td>\n",
       "      <td>5</td>\n",
       "      <td>0</td>\n",
       "      <td>2</td>\n",
       "      <td>3</td>\n",
       "      <td>0</td>\n",
       "      <td>3</td>\n",
       "      <td>2</td>\n",
       "      <td>2</td>\n",
       "      <td>3</td>\n",
       "      <td>0</td>\n",
       "    </tr>\n",
       "    <tr>\n",
       "      <th>1</th>\n",
       "      <td>2</td>\n",
       "      <td>2</td>\n",
       "      <td>5</td>\n",
       "      <td>5</td>\n",
       "      <td>3</td>\n",
       "      <td>1</td>\n",
       "      <td>1</td>\n",
       "      <td>1</td>\n",
       "      <td>1</td>\n",
       "      <td>4</td>\n",
       "      <td>0</td>\n",
       "      <td>0</td>\n",
       "      <td>5</td>\n",
       "      <td>1</td>\n",
       "    </tr>\n",
       "    <tr>\n",
       "      <th>2</th>\n",
       "      <td>5</td>\n",
       "      <td>2</td>\n",
       "      <td>0</td>\n",
       "      <td>3</td>\n",
       "      <td>4</td>\n",
       "      <td>2</td>\n",
       "      <td>2</td>\n",
       "      <td>3</td>\n",
       "      <td>0</td>\n",
       "      <td>1</td>\n",
       "      <td>1</td>\n",
       "      <td>0</td>\n",
       "      <td>5</td>\n",
       "      <td>1</td>\n",
       "    </tr>\n",
       "    <tr>\n",
       "      <th>3</th>\n",
       "      <td>5</td>\n",
       "      <td>1</td>\n",
       "      <td>2</td>\n",
       "      <td>6</td>\n",
       "      <td>4</td>\n",
       "      <td>0</td>\n",
       "      <td>2</td>\n",
       "      <td>3</td>\n",
       "      <td>0</td>\n",
       "      <td>3</td>\n",
       "      <td>2</td>\n",
       "      <td>1</td>\n",
       "      <td>5</td>\n",
       "      <td>1</td>\n",
       "    </tr>\n",
       "    <tr>\n",
       "      <th>4</th>\n",
       "      <td>4</td>\n",
       "      <td>0</td>\n",
       "      <td>3</td>\n",
       "      <td>4</td>\n",
       "      <td>1</td>\n",
       "      <td>2</td>\n",
       "      <td>0</td>\n",
       "      <td>2</td>\n",
       "      <td>2</td>\n",
       "      <td>2</td>\n",
       "      <td>2</td>\n",
       "      <td>1</td>\n",
       "      <td>5</td>\n",
       "      <td>1</td>\n",
       "    </tr>\n",
       "  </tbody>\n",
       "</table>\n",
       "</div>"
      ],
      "text/plain": [
       "   Em qual faixa etária você se encaixa?  \\\n",
       "0                                      5   \n",
       "1                                      2   \n",
       "2                                      5   \n",
       "3                                      5   \n",
       "4                                      4   \n",
       "\n",
       "   Qual a renda per capita da sua casa?  \\\n",
       "0                                     3   \n",
       "1                                     2   \n",
       "2                                     2   \n",
       "3                                     1   \n",
       "4                                     0   \n",
       "\n",
       "   Há quanto tempo você se interessa por arte?  \\\n",
       "0                                            4   \n",
       "1                                            5   \n",
       "2                                            0   \n",
       "3                                            2   \n",
       "4                                            3   \n",
       "\n",
       "   Qual das opções de arte abaixo você mais gosta?  \\\n",
       "0                                                4   \n",
       "1                                                5   \n",
       "2                                                3   \n",
       "3                                                6   \n",
       "4                                                4   \n",
       "\n",
       "   Com que frequência você vai aos museus?  \\\n",
       "0                                        5   \n",
       "1                                        3   \n",
       "2                                        4   \n",
       "3                                        4   \n",
       "4                                        1   \n",
       "\n",
       "   Você já participou de algum curso ou atividade relacionada à arte?  \\\n",
       "0                                                  0                    \n",
       "1                                                  1                    \n",
       "2                                                  2                    \n",
       "3                                                  0                    \n",
       "4                                                  2                    \n",
       "\n",
       "   Você segue artístas ou páginas relacionadas à arte nas rede sociais?  \\\n",
       "0                                                  2                      \n",
       "1                                                  1                      \n",
       "2                                                  2                      \n",
       "3                                                  2                      \n",
       "4                                                  0                      \n",
       "\n",
       "   Como é sua experiência ao visitar um museu normalmente? Caso nunca tenha visitado, selecione a que você acredita que seguiria.  \\\n",
       "0                                                  3                                                                                \n",
       "1                                                  1                                                                                \n",
       "2                                                  3                                                                                \n",
       "3                                                  3                                                                                \n",
       "4                                                  2                                                                                \n",
       "\n",
       "   Você já usou um aplicativo de um museu ou relacionado à arte?  \\\n",
       "0                                                  0               \n",
       "1                                                  1               \n",
       "2                                                  0               \n",
       "3                                                  0               \n",
       "4                                                  2               \n",
       "\n",
       "   O que mais te atrai em visitar museus ou exposições de arte?  \\\n",
       "0                                                  3              \n",
       "1                                                  4              \n",
       "2                                                  1              \n",
       "3                                                  3              \n",
       "4                                                  2              \n",
       "\n",
       "   Você sente falta de mais informações sobre as obras nos museus?  \\\n",
       "0                                                  2                 \n",
       "1                                                  0                 \n",
       "2                                                  1                 \n",
       "3                                                  2                 \n",
       "4                                                  2                 \n",
       "\n",
       "   Você procura saber sobre essas informações faltantes?  \\\n",
       "0                                                  2       \n",
       "1                                                  0       \n",
       "2                                                  0       \n",
       "3                                                  1       \n",
       "4                                                  1       \n",
       "\n",
       "   De que forma você costuma buscar essas informações?  \\\n",
       "0                                                  3     \n",
       "1                                                  5     \n",
       "2                                                  5     \n",
       "3                                                  5     \n",
       "4                                                  5     \n",
       "\n",
       "   Você encontra o que precisa/esperava ao pesquisar?  \n",
       "0                                                  0   \n",
       "1                                                  1   \n",
       "2                                                  1   \n",
       "3                                                  1   \n",
       "4                                                  1   "
      ]
     },
     "metadata": {},
     "output_type": "display_data"
    },
    {
     "data": {
      "text/plain": [
       "array([1, 0, 0, 0, 0, 0, 0, 0, 0, 0, 0, 1, 0, 0, 1, 0, 0, 0, 0, 1, 0, 0,\n",
       "       0, 0, 1, 0, 0, 0, 0, 1, 1, 1, 0, 0, 0, 0, 0, 1, 0, 0, 0, 0, 0, 1,\n",
       "       1, 0, 0, 0, 1, 0, 0, 1, 0, 0, 0, 1, 0, 0, 0, 1, 0, 0, 1, 0, 0, 0,\n",
       "       1, 0, 1, 0, 0, 0, 0, 0, 1, 0, 0, 1, 0, 0, 1, 0, 0, 0, 1, 0, 0, 0,\n",
       "       0, 0, 0, 1, 1, 0, 0, 0, 0, 1, 1, 0, 1, 0, 0, 0, 0, 0, 1, 0, 1, 0,\n",
       "       0, 0, 0, 1, 1, 0, 1, 0, 0, 0, 0, 1, 0, 0, 0, 0, 0, 1, 0, 0, 0, 0,\n",
       "       1, 0, 1, 0, 0, 0, 0, 1, 1, 1, 1, 0, 0, 0, 0, 0, 0, 1, 1, 1, 0, 1,\n",
       "       1, 0, 1, 1, 0, 0, 0, 0, 1, 0, 1, 0, 1, 0, 1, 1, 0, 1, 0, 0, 0, 0,\n",
       "       0, 1, 1, 0, 1, 1, 1, 1, 1, 0, 0, 1, 1, 0, 0, 0, 0, 0, 1, 1, 1, 0,\n",
       "       0, 1, 0, 0, 0, 1, 1, 1, 0, 0, 1, 1, 0, 1, 0, 0, 0, 0, 1, 0, 0, 0,\n",
       "       1, 0, 0, 0, 1, 0, 0, 1, 1, 0, 1, 0, 1, 0, 1, 1, 1, 1, 0, 1, 0, 0,\n",
       "       1, 0, 0, 1, 0, 0])"
      ]
     },
     "metadata": {},
     "output_type": "display_data"
    }
   ],
   "source": [
    "from sklearn.preprocessing import LabelEncoder\n",
    "\n",
    "\n",
    "for i in df_x:\n",
    "    le_x = LabelEncoder()\n",
    "    df_x[i] = le_x.fit_transform(df_x[i])\n",
    "\n",
    "le_y = LabelEncoder()\n",
    "\n",
    "df_y = le_y.fit_transform(df_y)\n",
    "\n",
    "for i in teste_x:\n",
    "    le_x = LabelEncoder()\n",
    "    teste_x[i] = le_x.fit_transform(teste_x[i])\n",
    "\n",
    "le_y = LabelEncoder()\n",
    "\n",
    "teste_y = le_y.fit_transform(teste_y)\n",
    "\n",
    "display(df_x.head())\n",
    "display(df_y)"
   ]
  },
  {
   "cell_type": "markdown",
   "metadata": {},
   "source": [
    "## Dividindo entre treino e teste"
   ]
  },
  {
   "cell_type": "code",
   "execution_count": 170,
   "metadata": {},
   "outputs": [],
   "source": [
    "# from sklearn.model_selection import train_test_split\n",
    "\n",
    "\n",
    "# df_x, teste_x, df_y, teste_y = train_test_split(df_x, df_y, test_size=0.25, random_state=SEED)\n",
    "\n",
    "# display(df_x)\n",
    "# display(df_y)\n",
    "# display(teste_x)\n",
    "# display(teste_y)"
   ]
  },
  {
   "cell_type": "markdown",
   "metadata": {},
   "source": [
    "## Naive Bayes"
   ]
  },
  {
   "cell_type": "markdown",
   "metadata": {},
   "source": [
    "### Modelo"
   ]
  },
  {
   "cell_type": "code",
   "execution_count": 171,
   "metadata": {},
   "outputs": [
    {
     "data": {
      "text/plain": [
       "array([1, 1, 1, 0, 1, 1, 1, 1, 1, 1, 1, 0, 1, 1, 1, 1, 1, 1, 1, 1, 1, 0,\n",
       "       1, 1, 1, 1, 1, 1, 1, 1, 1, 1, 1, 1, 1, 1, 1, 0, 1, 1])"
      ]
     },
     "metadata": {},
     "output_type": "display_data"
    }
   ],
   "source": [
    "from sklearn.naive_bayes import GaussianNB\n",
    "\n",
    "gnb = GaussianNB()\n",
    "predicao_gnb = gnb.fit(df_x, df_y).predict(teste_x)\n",
    "\n",
    "display(predicao_gnb)"
   ]
  },
  {
   "cell_type": "markdown",
   "metadata": {},
   "source": [
    "### Avaliando modelo"
   ]
  },
  {
   "cell_type": "code",
   "execution_count": 172,
   "metadata": {},
   "outputs": [
    {
     "name": "stdout",
     "output_type": "stream",
     "text": [
      "              precision    recall  f1-score   support\n",
      "\n",
      "         Não       1.00      0.12      0.22        33\n",
      "         Sim       0.19      1.00      0.33         7\n",
      "\n",
      "    accuracy                           0.28        40\n",
      "   macro avg       0.60      0.56      0.27        40\n",
      "weighted avg       0.86      0.28      0.24        40\n",
      "\n"
     ]
    }
   ],
   "source": [
    "from sklearn.metrics import *\n",
    "\n",
    "print(classification_report(teste_y, predicao_gnb, target_names=list(le_y.classes_)))"
   ]
  },
  {
   "cell_type": "code",
   "execution_count": 173,
   "metadata": {},
   "outputs": [
    {
     "data": {
      "text/plain": [
       "<sklearn.metrics._plot.confusion_matrix.ConfusionMatrixDisplay at 0x1da33178e50>"
      ]
     },
     "execution_count": 173,
     "metadata": {},
     "output_type": "execute_result"
    },
    {
     "data": {
      "image/png": "[encoded data removed]",
      "text/plain": [
       "<Figure size 640x480 with 2 Axes>"
      ]
     },
     "metadata": {},
     "output_type": "display_data"
    }
   ],
   "source": [
    "ConfusionMatrixDisplay(confusion_matrix(teste_y, predicao_gnb)).plot()"
   ]
  },
  {
   "cell_type": "markdown",
   "metadata": {},
   "source": [
    "Precision da classe 'Sim' está muito ruim, já que quase metade ele predisse ser 'Sim' mas pertencia a classe 'Não'. Isso pode ter acontecido pelo treino ter uma diferença de dados da classe 'Não' e da classe 'Sim' menor do que no teste."
   ]
  },
  {
   "cell_type": "markdown",
   "metadata": {},
   "source": [
    "### Kfold e Cross Validation"
   ]
  },
  {
   "cell_type": "code",
   "execution_count": 174,
   "metadata": {},
   "outputs": [
    {
     "name": "stdout",
     "output_type": "stream",
     "text": [
      "\n",
      "--- Fold 0 ---\n",
      "              precision    recall  f1-score   support\n",
      "\n",
      "         Não       1.00      1.00      1.00        47\n",
      "         Sim       1.00      1.00      1.00        15\n",
      "\n",
      "    accuracy                           1.00        62\n",
      "   macro avg       1.00      1.00      1.00        62\n",
      "weighted avg       1.00      1.00      1.00        62\n",
      "\n",
      "\n",
      "--- Fold 1 ---\n",
      "              precision    recall  f1-score   support\n",
      "\n",
      "         Não       1.00      1.00      1.00        44\n",
      "         Sim       1.00      1.00      1.00        18\n",
      "\n",
      "    accuracy                           1.00        62\n",
      "   macro avg       1.00      1.00      1.00        62\n",
      "weighted avg       1.00      1.00      1.00        62\n",
      "\n",
      "\n",
      "--- Fold 2 ---\n",
      "              precision    recall  f1-score   support\n",
      "\n",
      "         Não       1.00      1.00      1.00        35\n",
      "         Sim       1.00      1.00      1.00        27\n",
      "\n",
      "    accuracy                           1.00        62\n",
      "   macro avg       1.00      1.00      1.00        62\n",
      "weighted avg       1.00      1.00      1.00        62\n",
      "\n",
      "\n",
      "--- Fold 3 ---\n",
      "              precision    recall  f1-score   support\n",
      "\n",
      "         Não       1.00      1.00      1.00        36\n",
      "         Sim       1.00      1.00      1.00        26\n",
      "\n",
      "    accuracy                           1.00        62\n",
      "   macro avg       1.00      1.00      1.00        62\n",
      "weighted avg       1.00      1.00      1.00        62\n",
      "\n"
     ]
    },
    {
     "data": {
      "image/png": "[encoded data removed]",
      "text/plain": [
       "<Figure size 640x480 with 2 Axes>"
      ]
     },
     "metadata": {},
     "output_type": "display_data"
    },
    {
     "data": {
      "image/png": "[encoded data removed]",
      "text/plain": [
       "<Figure size 640x480 with 2 Axes>"
      ]
     },
     "metadata": {},
     "output_type": "display_data"
    },
    {
     "data": {
      "image/png": "[encoded data removed]",
      "text/plain": [
       "<Figure size 640x480 with 2 Axes>"
      ]
     },
     "metadata": {},
     "output_type": "display_data"
    },
    {
     "data": {
      "image/png": "[encoded data removed]",
      "text/plain": [
       "<Figure size 640x480 with 2 Axes>"
      ]
     },
     "metadata": {},
     "output_type": "display_data"
    }
   ],
   "source": [
    "from sklearn.model_selection import cross_val_score\n",
    "from sklearn.model_selection import KFold\n",
    "\n",
    "kf = KFold(n_splits=4, random_state=None, shuffle=False)\n",
    "gnb = GaussianNB()\n",
    "\n",
    "lista_acuracias = []\n",
    "lista_precisions = []\n",
    "\n",
    "for i, (train_index, test_index) in enumerate(kf.split(df_x)):\n",
    "    # Separando treino e teste de x e y\n",
    "    train_x, test_x = df_x.iloc[train_index], df_x.iloc[test_index]\n",
    "    train_y, test_y = df_y[train_index], df_y[test_index]\n",
    "\n",
    "    # Treinando o modelo\n",
    "    gnb.fit(train_x, train_y)\n",
    "\n",
    "    # Predict\n",
    "    predict = gnb.predict(test_x)\n",
    "\n",
    "    # Avaliando modelo\n",
    "    lista_acuracias.append(accuracy_score(test_y, predict))\n",
    "    lista_precisions.append(precision_score(test_y, predict, pos_label=1))\n",
    "    print(f'\\n--- Fold {i} ---')\n",
    "    print(classification_report(test_y, predict, target_names=list(le_y.classes_)))\n",
    "    matriz_confusao = confusion_matrix(test_y, predict)\n",
    "    matriz_confusao_display = ConfusionMatrixDisplay(matriz_confusao)\n",
    "    matriz_confusao_display.plot()"
   ]
  },
  {
   "cell_type": "code",
   "execution_count": 175,
   "metadata": {},
   "outputs": [
    {
     "name": "stdout",
     "output_type": "stream",
     "text": [
      "Acurácia média:  1.0\n",
      "Precision médio do \"Sim\":  1.0\n"
     ]
    }
   ],
   "source": [
    "print('Acurácia média: ', sum(lista_acuracias)/len(lista_acuracias))\n",
    "print('Precision médio do \"Sim\": ', sum(lista_precisions)/len(lista_precisions))"
   ]
  },
  {
   "cell_type": "markdown",
   "metadata": {},
   "source": [
    "Mesmo agora usando Cross Validation e KFold, ele prediz que boa parte dos dados da classe 'Não' eram da classe 'Sim'. Resultado não esperado, já que possui bem menos dados da label 1."
   ]
  },
  {
   "cell_type": "markdown",
   "metadata": {},
   "source": [
    "## Regressão linear"
   ]
  },
  {
   "cell_type": "markdown",
   "metadata": {},
   "source": [
    "### Modelo"
   ]
  },
  {
   "cell_type": "code",
   "execution_count": 176,
   "metadata": {},
   "outputs": [
    {
     "data": {
      "text/plain": [
       "array([1, 1, 1, 0, 0, 0, 1, 1, 1, 1, 1, 0, 1, 1, 1, 1, 1, 1, 1, 1, 1, 0,\n",
       "       1, 1, 1, 1, 1, 0, 0, 1, 1, 1, 1, 1, 1, 1, 1, 0, 1, 1])"
      ]
     },
     "metadata": {},
     "output_type": "display_data"
    }
   ],
   "source": [
    "from sklearn.linear_model import LogisticRegression\n",
    "\n",
    "lr = LogisticRegression()\n",
    "\n",
    "predicao_lr = lr.fit(df_x, df_y).predict(teste_x)\n",
    "\n",
    "display(predicao_lr)"
   ]
  },
  {
   "cell_type": "markdown",
   "metadata": {},
   "source": [
    "### Avaliando  modelo"
   ]
  },
  {
   "cell_type": "code",
   "execution_count": 177,
   "metadata": {},
   "outputs": [
    {
     "name": "stdout",
     "output_type": "stream",
     "text": [
      "              precision    recall  f1-score   support\n",
      "\n",
      "         Não       0.88      0.21      0.34        33\n",
      "         Sim       0.19      0.86      0.31         7\n",
      "\n",
      "    accuracy                           0.33        40\n",
      "   macro avg       0.53      0.53      0.32        40\n",
      "weighted avg       0.75      0.33      0.34        40\n",
      "\n"
     ]
    }
   ],
   "source": [
    "from sklearn.metrics import *\n",
    "\n",
    "print(classification_report(teste_y, predicao_lr, target_names=list(le_y.classes_)))"
   ]
  },
  {
   "cell_type": "code",
   "execution_count": 178,
   "metadata": {},
   "outputs": [
    {
     "data": {
      "text/plain": [
       "<sklearn.metrics._plot.confusion_matrix.ConfusionMatrixDisplay at 0x1da34758750>"
      ]
     },
     "execution_count": 178,
     "metadata": {},
     "output_type": "execute_result"
    },
    {
     "data": {
      "image/png": "[encoded data removed]",
      "text/plain": [
       "<Figure size 640x480 with 2 Axes>"
      ]
     },
     "metadata": {},
     "output_type": "display_data"
    }
   ],
   "source": [
    "ConfusionMatrixDisplay(confusion_matrix(teste_y, predicao_lr)).plot()"
   ]
  },
  {
   "cell_type": "markdown",
   "metadata": {},
   "source": [
    "Este modelo teve uma péssima performance com a classe 'Sim', principalmente com seu Precision, nosso principal foco."
   ]
  },
  {
   "cell_type": "markdown",
   "metadata": {},
   "source": [
    "### Kfold e Cross Validation"
   ]
  },
  {
   "cell_type": "code",
   "execution_count": 179,
   "metadata": {},
   "outputs": [
    {
     "name": "stdout",
     "output_type": "stream",
     "text": [
      "\n",
      "--- Fold 0 ---\n",
      "              precision    recall  f1-score   support\n",
      "\n",
      "         Não       1.00      1.00      1.00        47\n",
      "         Sim       1.00      1.00      1.00        15\n",
      "\n",
      "    accuracy                           1.00        62\n",
      "   macro avg       1.00      1.00      1.00        62\n",
      "weighted avg       1.00      1.00      1.00        62\n",
      "\n",
      "\n",
      "--- Fold 1 ---\n",
      "              precision    recall  f1-score   support\n",
      "\n",
      "         Não       1.00      0.98      0.99        44\n",
      "         Sim       0.95      1.00      0.97        18\n",
      "\n",
      "    accuracy                           0.98        62\n",
      "   macro avg       0.97      0.99      0.98        62\n",
      "weighted avg       0.98      0.98      0.98        62\n",
      "\n",
      "\n",
      "--- Fold 2 ---\n",
      "              precision    recall  f1-score   support\n",
      "\n",
      "         Não       1.00      1.00      1.00        35\n",
      "         Sim       1.00      1.00      1.00        27\n",
      "\n",
      "    accuracy                           1.00        62\n",
      "   macro avg       1.00      1.00      1.00        62\n",
      "weighted avg       1.00      1.00      1.00        62\n",
      "\n",
      "\n",
      "--- Fold 3 ---\n",
      "              precision    recall  f1-score   support\n",
      "\n",
      "         Não       1.00      1.00      1.00        36\n",
      "         Sim       1.00      1.00      1.00        26\n",
      "\n",
      "    accuracy                           1.00        62\n",
      "   macro avg       1.00      1.00      1.00        62\n",
      "weighted avg       1.00      1.00      1.00        62\n",
      "\n"
     ]
    },
    {
     "data": {
      "image/png": "[encoded data removed]",
      "text/plain": [
       "<Figure size 640x480 with 2 Axes>"
      ]
     },
     "metadata": {},
     "output_type": "display_data"
    },
    {
     "data": {
      "image/png": "[encoded data removed]",
      "text/plain": [
       "<Figure size 640x480 with 2 Axes>"
      ]
     },
     "metadata": {},
     "output_type": "display_data"
    },
    {
     "data": {
      "image/png": "[encoded data removed]",
      "text/plain": [
       "<Figure size 640x480 with 2 Axes>"
      ]
     },
     "metadata": {},
     "output_type": "display_data"
    },
    {
     "data": {
      "image/png": "[encoded data removed]",
      "text/plain": [
       "<Figure size 640x480 with 2 Axes>"
      ]
     },
     "metadata": {},
     "output_type": "display_data"
    }
   ],
   "source": [
    "from sklearn.model_selection import cross_val_score\n",
    "from sklearn.model_selection import KFold\n",
    "\n",
    "kf = KFold(n_splits=4, random_state=None, shuffle=False)\n",
    "lr = LogisticRegression()\n",
    "\n",
    "lista_acuracias = []\n",
    "lista_precisions = []\n",
    "\n",
    "for i, (train_index, test_index) in enumerate(kf.split(df_x)):\n",
    "    # Separando treino e teste de x e y\n",
    "    train_x, test_x = df_x.iloc[train_index], df_x.iloc[test_index]\n",
    "    train_y, test_y = df_y[train_index], df_y[test_index]\n",
    "\n",
    "    # Treinando o modelo\n",
    "    lr.fit(train_x, train_y)\n",
    "\n",
    "    # Predict\n",
    "    predict = lr.predict(test_x)\n",
    "\n",
    "    # Avaliando modelo\n",
    "    lista_acuracias.append(accuracy_score(test_y, predict))\n",
    "    lista_precisions.append(precision_score(test_y, predict, pos_label=1))\n",
    "    print(f'\\n--- Fold {i} ---')\n",
    "    print(classification_report(test_y, predict, target_names=list(le_y.classes_)))\n",
    "    matriz_confusao = confusion_matrix(test_y, predict)\n",
    "    matriz_confusao_display = ConfusionMatrixDisplay(matriz_confusao)\n",
    "    matriz_confusao_display.plot()"
   ]
  },
  {
   "cell_type": "code",
   "execution_count": 180,
   "metadata": {},
   "outputs": [
    {
     "name": "stdout",
     "output_type": "stream",
     "text": [
      "Acurácia média:  0.9959677419354839\n",
      "Precision médio do \"Sim\":  0.9868421052631579\n"
     ]
    }
   ],
   "source": [
    "print('Acurácia média: ', sum(lista_acuracias)/len(lista_acuracias))\n",
    "print('Precision médio do \"Sim\": ', sum(lista_precisions)/len(lista_precisions))"
   ]
  },
  {
   "cell_type": "markdown",
   "metadata": {},
   "source": [
    "Mesmo mudando os dados de treino e teste, os modelos se manteram com uma performance muito ruim com a classe 'Sim'."
   ]
  },
  {
   "cell_type": "markdown",
   "metadata": {},
   "source": [
    "## Arvore de decisão"
   ]
  },
  {
   "cell_type": "markdown",
   "metadata": {},
   "source": [
    "### Modelo"
   ]
  },
  {
   "cell_type": "code",
   "execution_count": 181,
   "metadata": {},
   "outputs": [
    {
     "data": {
      "text/plain": [
       "array([1, 1, 1, 0, 0, 0, 1, 1, 1, 1, 1, 0, 1, 1, 1, 1, 1, 1, 1, 1, 1, 0,\n",
       "       1, 1, 1, 1, 1, 0, 0, 1, 1, 1, 1, 1, 1, 1, 1, 0, 1, 1])"
      ]
     },
     "metadata": {},
     "output_type": "display_data"
    }
   ],
   "source": [
    "from sklearn.tree import DecisionTreeClassifier\n",
    "\n",
    "dtc = DecisionTreeClassifier()\n",
    "predicao_dtc = dtc.fit(df_x, df_y).predict(teste_x)\n",
    "\n",
    "display(predicao_dtc)"
   ]
  },
  {
   "cell_type": "markdown",
   "metadata": {},
   "source": [
    "### Avaliando modelo"
   ]
  },
  {
   "cell_type": "code",
   "execution_count": 182,
   "metadata": {},
   "outputs": [
    {
     "name": "stdout",
     "output_type": "stream",
     "text": [
      "              precision    recall  f1-score   support\n",
      "\n",
      "         Não       0.88      0.21      0.34        33\n",
      "         Sim       0.19      0.86      0.31         7\n",
      "\n",
      "    accuracy                           0.33        40\n",
      "   macro avg       0.53      0.53      0.32        40\n",
      "weighted avg       0.75      0.33      0.34        40\n",
      "\n"
     ]
    }
   ],
   "source": [
    "from sklearn.metrics import *\n",
    "\n",
    "print(classification_report(teste_y, predicao_dtc, target_names=list(le_y.classes_)))"
   ]
  },
  {
   "cell_type": "code",
   "execution_count": 183,
   "metadata": {},
   "outputs": [
    {
     "data": {
      "text/plain": [
       "<sklearn.metrics._plot.confusion_matrix.ConfusionMatrixDisplay at 0x1da34840ed0>"
      ]
     },
     "execution_count": 183,
     "metadata": {},
     "output_type": "execute_result"
    },
    {
     "data": {
      "image/png": "[encoded data removed]",
      "text/plain": [
       "<Figure size 640x480 with 2 Axes>"
      ]
     },
     "metadata": {},
     "output_type": "display_data"
    }
   ],
   "source": [
    "ConfusionMatrixDisplay(confusion_matrix(teste_y, predicao_dtc)).plot()"
   ]
  },
  {
   "cell_type": "markdown",
   "metadata": {},
   "source": [
    "Modelo usando árvore de decisão performou muito bem, inclusive a classe 'Sim'"
   ]
  },
  {
   "cell_type": "markdown",
   "metadata": {},
   "source": [
    "### Visualizando modelo"
   ]
  },
  {
   "cell_type": "code",
   "execution_count": 184,
   "metadata": {},
   "outputs": [
    {
     "data": {
      "text/plain": [
       "[Text(0.5, 0.75, 'Você procura saber sobre essas informações faltantes? <= 1.5\\ngini = 0.453\\nsamples = 248\\nvalue = [162, 86]\\nclass = 0'),\n",
       " Text(0.25, 0.25, 'gini = 0.0\\nsamples = 162\\nvalue = [162, 0]\\nclass = 0'),\n",
       " Text(0.375, 0.5, 'True  '),\n",
       " Text(0.75, 0.25, 'gini = 0.0\\nsamples = 86\\nvalue = [0, 86]\\nclass = 1'),\n",
       " Text(0.625, 0.5, '  False')]"
      ]
     },
     "execution_count": 184,
     "metadata": {},
     "output_type": "execute_result"
    },
    {
     "data": {
      "image/png": "[encoded data removed]",
      "text/plain": [
       "<Figure size 3000x700 with 1 Axes>"
      ]
     },
     "metadata": {},
     "output_type": "display_data"
    }
   ],
   "source": [
    "from sklearn import tree\n",
    "\n",
    "plt.figure(figsize=(30,7))\n",
    "classes = [str(x) for x in dtc.classes_]\n",
    "\n",
    "tree.plot_tree(dtc, \n",
    "               feature_names=list(df_x.columns), \n",
    "               class_names=classes, filled=True)"
   ]
  },
  {
   "cell_type": "markdown",
   "metadata": {},
   "source": [
    "### Kfold e Cross Validation"
   ]
  },
  {
   "cell_type": "code",
   "execution_count": 185,
   "metadata": {},
   "outputs": [
    {
     "name": "stdout",
     "output_type": "stream",
     "text": [
      "\n",
      "--- Fold 0 ---\n",
      "              precision    recall  f1-score   support\n",
      "\n",
      "         Não       1.00      1.00      1.00        47\n",
      "         Sim       1.00      1.00      1.00        15\n",
      "\n",
      "    accuracy                           1.00        62\n",
      "   macro avg       1.00      1.00      1.00        62\n",
      "weighted avg       1.00      1.00      1.00        62\n",
      "\n",
      "\n",
      "--- Fold 1 ---\n",
      "              precision    recall  f1-score   support\n",
      "\n",
      "         Não       1.00      1.00      1.00        44\n",
      "         Sim       1.00      1.00      1.00        18\n",
      "\n",
      "    accuracy                           1.00        62\n",
      "   macro avg       1.00      1.00      1.00        62\n",
      "weighted avg       1.00      1.00      1.00        62\n",
      "\n",
      "\n",
      "--- Fold 2 ---\n",
      "              precision    recall  f1-score   support\n",
      "\n",
      "         Não       1.00      1.00      1.00        35\n",
      "         Sim       1.00      1.00      1.00        27\n",
      "\n",
      "    accuracy                           1.00        62\n",
      "   macro avg       1.00      1.00      1.00        62\n",
      "weighted avg       1.00      1.00      1.00        62\n",
      "\n",
      "\n",
      "--- Fold 3 ---\n",
      "              precision    recall  f1-score   support\n",
      "\n",
      "         Não       1.00      1.00      1.00        36\n",
      "         Sim       1.00      1.00      1.00        26\n",
      "\n",
      "    accuracy                           1.00        62\n",
      "   macro avg       1.00      1.00      1.00        62\n",
      "weighted avg       1.00      1.00      1.00        62\n",
      "\n"
     ]
    },
    {
     "data": {
      "image/png": "[encoded data removed]",
      "text/plain": [
       "<Figure size 640x480 with 2 Axes>"
      ]
     },
     "metadata": {},
     "output_type": "display_data"
    },
    {
     "data": {
      "image/png": "[encoded data removed]",
      "text/plain": [
       "<Figure size 640x480 with 2 Axes>"
      ]
     },
     "metadata": {},
     "output_type": "display_data"
    },
    {
     "data": {
      "image/png": "[encoded data removed]",
      "text/plain": [
       "<Figure size 640x480 with 2 Axes>"
      ]
     },
     "metadata": {},
     "output_type": "display_data"
    },
    {
     "data": {
      "image/png": "[encoded data removed]",
      "text/plain": [
       "<Figure size 640x480 with 2 Axes>"
      ]
     },
     "metadata": {},
     "output_type": "display_data"
    }
   ],
   "source": [
    "from sklearn.model_selection import cross_val_score\n",
    "from sklearn.model_selection import KFold\n",
    "\n",
    "kf = KFold(n_splits=4, random_state=None, shuffle=False)\n",
    "dtc = DecisionTreeClassifier()\n",
    "\n",
    "lista_acuracias = []\n",
    "lista_precisions = []\n",
    "\n",
    "for i, (train_index, test_index) in enumerate(kf.split(df_x)):\n",
    "    # Separando treino e teste de x e y\n",
    "    train_x, test_x = df_x.iloc[train_index], df_x.iloc[test_index]\n",
    "    train_y, test_y = df_y[train_index], df_y[test_index]\n",
    "\n",
    "    # Treinando o modelo\n",
    "    dtc.fit(train_x, train_y)\n",
    "\n",
    "    # Predict\n",
    "    predict = dtc.predict(test_x)\n",
    "\n",
    "    # Avaliando modelo\n",
    "    lista_acuracias.append(accuracy_score(test_y, predict))\n",
    "    lista_precisions.append(precision_score(test_y, predict, pos_label=1))\n",
    "    print(f'\\n--- Fold {i} ---')\n",
    "    print(classification_report(test_y, predict, target_names=list(le_y.classes_)))\n",
    "    matriz_confusao = confusion_matrix(test_y, predict)\n",
    "    matriz_confusao_display = ConfusionMatrixDisplay(matriz_confusao)\n",
    "    matriz_confusao_display.plot()"
   ]
  },
  {
   "cell_type": "code",
   "execution_count": 186,
   "metadata": {},
   "outputs": [
    {
     "name": "stdout",
     "output_type": "stream",
     "text": [
      "Acurácia média:  1.0\n",
      "Precision médio do \"Sim\":  1.0\n"
     ]
    }
   ],
   "source": [
    "print('Acurácia média: ', sum(lista_acuracias)/len(lista_acuracias))\n",
    "print('Precision médio do \"Sim\": ', sum(lista_precisions)/len(lista_precisions))"
   ]
  },
  {
   "cell_type": "markdown",
   "metadata": {},
   "source": [
    "Divisão do primeiro fold ficou muito ruim, já os outros acabaram tendo um recall inforior ao precision, porém ainda razoavelmente boas"
   ]
  },
  {
   "cell_type": "markdown",
   "metadata": {},
   "source": [
    "## KNN"
   ]
  },
  {
   "cell_type": "markdown",
   "metadata": {},
   "source": [
    "### Modelo"
   ]
  },
  {
   "cell_type": "code",
   "execution_count": 187,
   "metadata": {},
   "outputs": [],
   "source": [
    "K = 5"
   ]
  },
  {
   "cell_type": "code",
   "execution_count": 188,
   "metadata": {},
   "outputs": [
    {
     "data": {
      "text/plain": [
       "array([1, 1, 0, 0, 1, 0, 0, 0, 0, 0, 1, 0, 0, 1, 0, 0, 1, 1, 1, 0, 0, 0,\n",
       "       1, 0, 1, 0, 0, 1, 1, 0, 0, 0, 1, 1, 0, 0, 0, 1, 1, 0])"
      ]
     },
     "metadata": {},
     "output_type": "display_data"
    }
   ],
   "source": [
    "from sklearn.neighbors import KNeighborsClassifier\n",
    "\n",
    "knn = KNeighborsClassifier(n_neighbors=K)\n",
    "knn.fit(df_x, df_y)\n",
    "predicao_knn = knn.predict(teste_x)\n",
    "\n",
    "display(predicao_knn)"
   ]
  },
  {
   "cell_type": "markdown",
   "metadata": {},
   "source": [
    "### Avaliando modelo"
   ]
  },
  {
   "cell_type": "code",
   "execution_count": 189,
   "metadata": {},
   "outputs": [
    {
     "name": "stdout",
     "output_type": "stream",
     "text": [
      "              precision    recall  f1-score   support\n",
      "\n",
      "         Não       0.75      0.55      0.63        33\n",
      "         Sim       0.06      0.14      0.09         7\n",
      "\n",
      "    accuracy                           0.47        40\n",
      "   macro avg       0.41      0.34      0.36        40\n",
      "weighted avg       0.63      0.47      0.54        40\n",
      "\n"
     ]
    }
   ],
   "source": [
    "from sklearn.metrics import *\n",
    "\n",
    "print(classification_report(teste_y, predicao_knn, target_names=list(le_y.classes_)))"
   ]
  },
  {
   "cell_type": "code",
   "execution_count": 190,
   "metadata": {},
   "outputs": [
    {
     "data": {
      "text/plain": [
       "<sklearn.metrics._plot.confusion_matrix.ConfusionMatrixDisplay at 0x1da32f9f4d0>"
      ]
     },
     "execution_count": 190,
     "metadata": {},
     "output_type": "execute_result"
    },
    {
     "data": {
      "image/png": "[encoded data removed]",
      "text/plain": [
       "<Figure size 640x480 with 2 Axes>"
      ]
     },
     "metadata": {},
     "output_type": "display_data"
    }
   ],
   "source": [
    "ConfusionMatrixDisplay(confusion_matrix(teste_y, predicao_knn)).plot()"
   ]
  },
  {
   "cell_type": "markdown",
   "metadata": {},
   "source": [
    "Teve uma péssima performance com a classe 'Sim', tanto no Recall quanto no Precision"
   ]
  },
  {
   "cell_type": "markdown",
   "metadata": {},
   "source": [
    "### Kfold e Cross Validation"
   ]
  },
  {
   "cell_type": "code",
   "execution_count": 191,
   "metadata": {},
   "outputs": [
    {
     "name": "stdout",
     "output_type": "stream",
     "text": [
      "\n",
      "--- Fold 0 ---\n",
      "              precision    recall  f1-score   support\n",
      "\n",
      "         Não       0.92      0.98      0.95        47\n",
      "         Sim       0.92      0.73      0.81        15\n",
      "\n",
      "    accuracy                           0.92        62\n",
      "   macro avg       0.92      0.86      0.88        62\n",
      "weighted avg       0.92      0.92      0.92        62\n",
      "\n",
      "\n",
      "--- Fold 1 ---\n",
      "              precision    recall  f1-score   support\n",
      "\n",
      "         Não       0.90      1.00      0.95        44\n",
      "         Sim       1.00      0.72      0.84        18\n",
      "\n",
      "    accuracy                           0.92        62\n",
      "   macro avg       0.95      0.86      0.89        62\n",
      "weighted avg       0.93      0.92      0.92        62\n",
      "\n",
      "\n",
      "--- Fold 2 ---\n",
      "              precision    recall  f1-score   support\n",
      "\n",
      "         Não       0.86      0.91      0.89        35\n",
      "         Sim       0.88      0.81      0.85        27\n",
      "\n",
      "    accuracy                           0.87        62\n",
      "   macro avg       0.87      0.86      0.87        62\n",
      "weighted avg       0.87      0.87      0.87        62\n",
      "\n",
      "\n",
      "--- Fold 3 ---\n",
      "              precision    recall  f1-score   support\n",
      "\n",
      "         Não       0.89      0.92      0.90        36\n",
      "         Sim       0.88      0.85      0.86        26\n",
      "\n",
      "    accuracy                           0.89        62\n",
      "   macro avg       0.89      0.88      0.88        62\n",
      "weighted avg       0.89      0.89      0.89        62\n",
      "\n"
     ]
    },
    {
     "data": {
      "image/png": "[encoded data removed]",
      "text/plain": [
       "<Figure size 640x480 with 2 Axes>"
      ]
     },
     "metadata": {},
     "output_type": "display_data"
    },
    {
     "data": {
      "image/png": "[encoded data removed]",
      "text/plain": [
       "<Figure size 640x480 with 2 Axes>"
      ]
     },
     "metadata": {},
     "output_type": "display_data"
    },
    {
     "data": {
      "image/png": "[encoded data removed]",
      "text/plain": [
       "<Figure size 640x480 with 2 Axes>"
      ]
     },
     "metadata": {},
     "output_type": "display_data"
    },
    {
     "data": {
      "image/png": "[encoded data removed]",
      "text/plain": [
       "<Figure size 640x480 with 2 Axes>"
      ]
     },
     "metadata": {},
     "output_type": "display_data"
    }
   ],
   "source": [
    "from sklearn.model_selection import cross_val_score\n",
    "from sklearn.model_selection import KFold\n",
    "\n",
    "kf = KFold(n_splits=4, random_state=None, shuffle=False)\n",
    "knn = KNeighborsClassifier(n_neighbors=K)\n",
    "\n",
    "lista_acuracias = []\n",
    "lista_precisions = []\n",
    "\n",
    "for i, (train_index, test_index) in enumerate(kf.split(df_x)):\n",
    "    # Separando treino e teste de x e y\n",
    "    train_x, test_x = df_x.iloc[train_index], df_x.iloc[test_index]\n",
    "    train_y, test_y = df_y[train_index], df_y[test_index]\n",
    "\n",
    "    # Treinando o modelo\n",
    "    knn.fit(train_x, train_y)\n",
    "\n",
    "    # Predict\n",
    "    predict = knn.predict(test_x)\n",
    "\n",
    "    # Avaliando modelo\n",
    "    lista_acuracias.append(accuracy_score(test_y, predict))\n",
    "    lista_precisions.append(precision_score(test_y, predict, pos_label=1))\n",
    "    print(f'\\n--- Fold {i} ---')\n",
    "    print(classification_report(test_y, predict, target_names=list(le_y.classes_)))\n",
    "    matriz_confusao = confusion_matrix(test_y, predict)\n",
    "    matriz_confusao_display = ConfusionMatrixDisplay(matriz_confusao)\n",
    "    matriz_confusao_display.plot()"
   ]
  },
  {
   "cell_type": "code",
   "execution_count": 192,
   "metadata": {},
   "outputs": [
    {
     "name": "stdout",
     "output_type": "stream",
     "text": [
      "Acurácia média:  0.8991935483870968\n",
      "Precision médio do \"Sim\":  0.9191666666666666\n"
     ]
    }
   ],
   "source": [
    "print('Acurácia média: ', sum(lista_acuracias)/len(lista_acuracias))\n",
    "print('Precision médio do \"Sim\": ', sum(lista_precisions)/len(lista_precisions))"
   ]
  },
  {
   "cell_type": "markdown",
   "metadata": {},
   "source": [
    "Péssima performance em todos os folds com a classe 'Sim'"
   ]
  },
  {
   "cell_type": "code",
   "execution_count": 193,
   "metadata": {},
   "outputs": [],
   "source": [
    "import matplotlib.pyplot as plt"
   ]
  },
  {
   "cell_type": "code",
   "execution_count": 194,
   "metadata": {},
   "outputs": [
    {
     "data": {
      "image/png": "[encoded data removed]",
      "text/plain": [
       "<Figure size 1000x600 with 1 Axes>"
      ]
     },
     "metadata": {},
     "output_type": "display_data"
    }
   ],
   "source": [
    "acuracias = []\n",
    "intervalo = range(1, 30)\n",
    "for k in intervalo:\n",
    "    knn = KNeighborsClassifier(n_neighbors=K)\n",
    "    knn.fit(df_x, df_y)\n",
    "    predict = knn.predict(teste_x)\n",
    "    acuracias.append(accuracy_score(teste_y, predict))\n",
    "\n",
    "lista_acuracias = list(intervalo)\n",
    "\n",
    "plt.figure(figsize=(10, 6))\n",
    "plt.plot(lista_acuracias, acuracias, marker='o', linestyle='-', color='b')\n",
    "plt.title('Acurácia do KNeighborsClassifier em função do K')\n",
    "plt.xlabel('Número de Vizinhos (K)')\n",
    "plt.ylabel('Acurácia')\n",
    "plt.xticks(lista_acuracias)\n",
    "plt.grid(True)\n",
    "plt.show()"
   ]
  },
  {
   "cell_type": "markdown",
   "metadata": {},
   "source": [
    "#### A acurácia não muda com o número de vizinhos, apenas utilizando diferentes treinos e testes"
   ]
  },
  {
   "cell_type": "markdown",
   "metadata": {},
   "source": [
    "## Conclusão\n",
    "\n",
    "Apesar de todos os modelos terem uma boa acurácia, para o modelo supervisionado no nosso caso é interessante utilizar um algoritmo que leva em consideração o valor dos dados e não apenas sua frequência na base, já que para definir se uma pessoa é um possível usuário de nosso aplicativo, olhamos para características mais atrativas e damos um peso maior a elas, já para aspectos negativos como baixa ida a museus, desinteresse em arte ou se sentir satisfeito com as informações das obras que já estão nos museus, por exemplo, damos pontuações mais baixas e até as vezes, negativas.\n",
    "Olhando por este lado, é prefirível usar a regressão linear ou o KNN. Visto que o KNN faz o cálculo das distâncias dos novos dados em relação aos de treino e assim definindo "
   ]
  },
  {
   "cell_type": "markdown",
   "metadata": {},
   "source": [
    "# Modelo com KNN"
   ]
  },
  {
   "cell_type": "code",
   "execution_count": 195,
   "metadata": {},
   "outputs": [
    {
     "data": {
      "text/html": [
       "<div>\n",
       "<style scoped>\n",
       "    .dataframe tbody tr th:only-of-type {\n",
       "        vertical-align: middle;\n",
       "    }\n",
       "\n",
       "    .dataframe tbody tr th {\n",
       "        vertical-align: top;\n",
       "    }\n",
       "\n",
       "    .dataframe thead th {\n",
       "        text-align: right;\n",
       "    }\n",
       "</style>\n",
       "<table border=\"1\" class=\"dataframe\">\n",
       "  <thead>\n",
       "    <tr style=\"text-align: right;\">\n",
       "      <th></th>\n",
       "      <th>Em qual faixa etária você se encaixa?</th>\n",
       "      <th>Qual a renda per capita da sua casa?</th>\n",
       "      <th>Há quanto tempo você se interessa por arte?</th>\n",
       "      <th>Qual das opções de arte abaixo você mais gosta?</th>\n",
       "      <th>Com que frequência você vai aos museus?</th>\n",
       "      <th>Você já participou de algum curso ou atividade relacionada à arte?</th>\n",
       "      <th>Você segue artístas ou páginas relacionadas à arte nas rede sociais?</th>\n",
       "      <th>Como é sua experiência ao visitar um museu normalmente? Caso nunca tenha visitado, selecione a que você acredita que seguiria.</th>\n",
       "      <th>Você já usou um aplicativo de um museu ou relacionado à arte?</th>\n",
       "      <th>O que mais te atrai em visitar museus ou exposições de arte?</th>\n",
       "      <th>Você sente falta de mais informações sobre as obras nos museus?</th>\n",
       "      <th>Você procura saber sobre essas informações faltantes?</th>\n",
       "      <th>De que forma você costuma buscar essas informações?</th>\n",
       "      <th>Você encontra o que precisa/esperava ao pesquisar?</th>\n",
       "    </tr>\n",
       "  </thead>\n",
       "  <tbody>\n",
       "    <tr>\n",
       "      <th>0</th>\n",
       "      <td>Menos de 18 anos</td>\n",
       "      <td>Classes D/E: até R$ 2,9 mil</td>\n",
       "      <td>Menos de 2 anos</td>\n",
       "      <td>Fotografia</td>\n",
       "      <td>Raramente (uma vez ao ano)</td>\n",
       "      <td>Não</td>\n",
       "      <td>Sim</td>\n",
       "      <td>Sem um guia/planejamento para ver as obras.</td>\n",
       "      <td>Não</td>\n",
       "      <td>Lazer</td>\n",
       "      <td>Sim, sinto falta de mais informações</td>\n",
       "      <td>Sim, procuro</td>\n",
       "      <td>Busca em navegadores (Google, Yahoo, Edge, Ope...</td>\n",
       "      <td>Não</td>\n",
       "    </tr>\n",
       "    <tr>\n",
       "      <th>1</th>\n",
       "      <td>Entre 25 e 35 anos</td>\n",
       "      <td>Classe C: entre R$ 2,9 mil e R$ 7,1 mil</td>\n",
       "      <td>Não me interesso</td>\n",
       "      <td>Não se interessa por arte</td>\n",
       "      <td>Não se interessa por arte</td>\n",
       "      <td>Não se interessa por arte</td>\n",
       "      <td>Não se interessa por arte</td>\n",
       "      <td>Não se interessa por arte</td>\n",
       "      <td>Não se interessa por arte</td>\n",
       "      <td>Não se interessa por arte</td>\n",
       "      <td>Não vai a museus</td>\n",
       "      <td>Não sente falta de informações</td>\n",
       "      <td>Não procura essas informações</td>\n",
       "      <td>Não procura essas informações</td>\n",
       "    </tr>\n",
       "    <tr>\n",
       "      <th>2</th>\n",
       "      <td>Menos de 18 anos</td>\n",
       "      <td>Classe C: entre R$ 2,9 mil e R$ 7,1 mil</td>\n",
       "      <td>De 2 a 4 anos</td>\n",
       "      <td>Escultura</td>\n",
       "      <td>Ocasionalmente (máximo três vezes ao ano)</td>\n",
       "      <td>Sim</td>\n",
       "      <td>Sim</td>\n",
       "      <td>Sem um guia/planejamento para ver as obras.</td>\n",
       "      <td>Não</td>\n",
       "      <td>Aprendizado</td>\n",
       "      <td>Não, acredito que o que tem no museu é o sufic...</td>\n",
       "      <td>Não sente falta de informações</td>\n",
       "      <td>Não procura essas informações</td>\n",
       "      <td>Não procura essas informações</td>\n",
       "    </tr>\n",
       "    <tr>\n",
       "      <th>3</th>\n",
       "      <td>Menos de 18 anos</td>\n",
       "      <td>Classe B: entre R$ 7,1 mil e R$ 22 mil</td>\n",
       "      <td>Estou iniciando agora</td>\n",
       "      <td>Pintura</td>\n",
       "      <td>Ocasionalmente (máximo três vezes ao ano)</td>\n",
       "      <td>Não</td>\n",
       "      <td>Sim</td>\n",
       "      <td>Sem um guia/planejamento para ver as obras.</td>\n",
       "      <td>Não</td>\n",
       "      <td>Lazer</td>\n",
       "      <td>Sim, sinto falta de mais informações</td>\n",
       "      <td>Não, apenas me conformo</td>\n",
       "      <td>Não procura essas informações</td>\n",
       "      <td>Não procura essas informações</td>\n",
       "    </tr>\n",
       "    <tr>\n",
       "      <th>4</th>\n",
       "      <td>Entre 46 e 59 anos</td>\n",
       "      <td>Classe A: superior a R$ 22 mil</td>\n",
       "      <td>Há mais de 10 anos</td>\n",
       "      <td>Fotografia</td>\n",
       "      <td>Muito frequentemente (mais de cinco vezes ao ano)</td>\n",
       "      <td>Sim</td>\n",
       "      <td>Não</td>\n",
       "      <td>Planejo minha rota antes.</td>\n",
       "      <td>Sim</td>\n",
       "      <td>Inspiração</td>\n",
       "      <td>Sim, sinto falta de mais informações</td>\n",
       "      <td>Não, apenas me conformo</td>\n",
       "      <td>Não procura essas informações</td>\n",
       "      <td>Não procura essas informações</td>\n",
       "    </tr>\n",
       "  </tbody>\n",
       "</table>\n",
       "</div>"
      ],
      "text/plain": [
       "  Em qual faixa etária você se encaixa?  \\\n",
       "0                      Menos de 18 anos   \n",
       "1                    Entre 25 e 35 anos   \n",
       "2                      Menos de 18 anos   \n",
       "3                      Menos de 18 anos   \n",
       "4                    Entre 46 e 59 anos   \n",
       "\n",
       "      Qual a renda per capita da sua casa?  \\\n",
       "0              Classes D/E: até R$ 2,9 mil   \n",
       "1  Classe C: entre R$ 2,9 mil e R$ 7,1 mil   \n",
       "2  Classe C: entre R$ 2,9 mil e R$ 7,1 mil   \n",
       "3   Classe B: entre R$ 7,1 mil e R$ 22 mil   \n",
       "4           Classe A: superior a R$ 22 mil   \n",
       "\n",
       "  Há quanto tempo você se interessa por arte?  \\\n",
       "0                             Menos de 2 anos   \n",
       "1                            Não me interesso   \n",
       "2                               De 2 a 4 anos   \n",
       "3                       Estou iniciando agora   \n",
       "4                          Há mais de 10 anos   \n",
       "\n",
       "  Qual das opções de arte abaixo você mais gosta?  \\\n",
       "0                                      Fotografia   \n",
       "1                       Não se interessa por arte   \n",
       "2                                       Escultura   \n",
       "3                                         Pintura   \n",
       "4                                      Fotografia   \n",
       "\n",
       "             Com que frequência você vai aos museus?  \\\n",
       "0                         Raramente (uma vez ao ano)   \n",
       "1                          Não se interessa por arte   \n",
       "2          Ocasionalmente (máximo três vezes ao ano)   \n",
       "3          Ocasionalmente (máximo três vezes ao ano)   \n",
       "4  Muito frequentemente (mais de cinco vezes ao ano)   \n",
       "\n",
       "  Você já participou de algum curso ou atividade relacionada à arte?  \\\n",
       "0                                                Não                   \n",
       "1                          Não se interessa por arte                   \n",
       "2                                                Sim                   \n",
       "3                                                Não                   \n",
       "4                                                Sim                   \n",
       "\n",
       "  Você segue artístas ou páginas relacionadas à arte nas rede sociais?  \\\n",
       "0                                                Sim                     \n",
       "1                          Não se interessa por arte                     \n",
       "2                                                Sim                     \n",
       "3                                                Sim                     \n",
       "4                                                Não                     \n",
       "\n",
       "  Como é sua experiência ao visitar um museu normalmente? Caso nunca tenha visitado, selecione a que você acredita que seguiria.  \\\n",
       "0        Sem um guia/planejamento para ver as obras.                                                                               \n",
       "1                          Não se interessa por arte                                                                               \n",
       "2        Sem um guia/planejamento para ver as obras.                                                                               \n",
       "3        Sem um guia/planejamento para ver as obras.                                                                               \n",
       "4                          Planejo minha rota antes.                                                                               \n",
       "\n",
       "  Você já usou um aplicativo de um museu ou relacionado à arte?  \\\n",
       "0                                                Não              \n",
       "1                          Não se interessa por arte              \n",
       "2                                                Não              \n",
       "3                                                Não              \n",
       "4                                                Sim              \n",
       "\n",
       "  O que mais te atrai em visitar museus ou exposições de arte?  \\\n",
       "0                                              Lazer             \n",
       "1                          Não se interessa por arte             \n",
       "2                                        Aprendizado             \n",
       "3                                              Lazer             \n",
       "4                                         Inspiração             \n",
       "\n",
       "  Você sente falta de mais informações sobre as obras nos museus?  \\\n",
       "0               Sim, sinto falta de mais informações                \n",
       "1                                   Não vai a museus                \n",
       "2  Não, acredito que o que tem no museu é o sufic...                \n",
       "3               Sim, sinto falta de mais informações                \n",
       "4               Sim, sinto falta de mais informações                \n",
       "\n",
       "  Você procura saber sobre essas informações faltantes?  \\\n",
       "0                                       Sim, procuro      \n",
       "1                     Não sente falta de informações      \n",
       "2                     Não sente falta de informações      \n",
       "3                            Não, apenas me conformo      \n",
       "4                            Não, apenas me conformo      \n",
       "\n",
       "  De que forma você costuma buscar essas informações?  \\\n",
       "0  Busca em navegadores (Google, Yahoo, Edge, Ope...    \n",
       "1                      Não procura essas informações    \n",
       "2                      Não procura essas informações    \n",
       "3                      Não procura essas informações    \n",
       "4                      Não procura essas informações    \n",
       "\n",
       "  Você encontra o que precisa/esperava ao pesquisar?  \n",
       "0                                                Não  \n",
       "1                      Não procura essas informações  \n",
       "2                      Não procura essas informações  \n",
       "3                      Não procura essas informações  \n",
       "4                      Não procura essas informações  "
      ]
     },
     "metadata": {},
     "output_type": "display_data"
    },
    {
     "data": {
      "text/plain": [
       "0    Sim\n",
       "1    Não\n",
       "2    Não\n",
       "3    Não\n",
       "4    Não\n",
       "Name: Usaria o aplicativo?, dtype: object"
      ]
     },
     "metadata": {},
     "output_type": "display_data"
    }
   ],
   "source": [
    "df_y_2, df_x_2 = dados['Usaria o aplicativo?'], dados.drop(columns=['Usaria o aplicativo?'])\n",
    "display(df_x_2.head())\n",
    "display(df_y_2.head())"
   ]
  },
  {
   "cell_type": "markdown",
   "metadata": {},
   "source": [
    "## Tratando dados"
   ]
  },
  {
   "cell_type": "code",
   "execution_count": 196,
   "metadata": {},
   "outputs": [],
   "source": [
    "df_x_2.fillna(\"#\", inplace=True)"
   ]
  },
  {
   "cell_type": "markdown",
   "metadata": {},
   "source": [
    "#### Aplicando os pesos"
   ]
  },
  {
   "cell_type": "code",
   "execution_count": 197,
   "metadata": {},
   "outputs": [
    {
     "data": {
      "text/plain": [
       "0      Sim\n",
       "1      Não\n",
       "2      Não\n",
       "3      Não\n",
       "4      Não\n",
       "      ... \n",
       "243    Não\n",
       "244    Não\n",
       "245    Sim\n",
       "246    Não\n",
       "247    Não\n",
       "Name: Usaria o aplicativo?, Length: 248, dtype: object"
      ]
     },
     "execution_count": 197,
     "metadata": {},
     "output_type": "execute_result"
    }
   ],
   "source": [
    "df_y_2"
   ]
  },
  {
   "cell_type": "code",
   "execution_count": 198,
   "metadata": {},
   "outputs": [],
   "source": [
    "mapeamento_tipo_arte = {'Não se interessa por arte': 0, 'Pintura': 8, 'Fotografia': 8, 'Escultura': 6, 'Arquitetura e Urbanismo': 5, 'Arte digital': 4,'Arte de rua/grafite': 3}\n",
    "mapeamento_frequencia = {'Não se interessa por arte': 0, 'Frequentemente (máximo cinco vezes ao ano)': 10,'Muito frequentemente (mais de cinco vezes ao ano)': 9,'Ocasionalmente (máximo três vezes ao ano)': 8,'Raramente (uma vez ao ano)': 5,'Nunca': 1}\n",
    "mapeamento_guia = {'Não se interessa por arte': 0, 'Planejo minha rota antes.': 10, 'Utilizo o planejamento de terceiros (sites, blogs, páginas em redes sociais que disponibilizam).': 9, 'Com um guia do próprio museu.': 8, 'Sem um guia/planejamento para ver as obras.': 2}\n",
    "mapeamento_motivo = {'Não se interessa por arte': 0, 'Aprendizado': 10, 'Inspiração': 9, 'Lazer': 6, 'Apenas acompanho alguém': 3, 'Não visito': 1}\n",
    "mapeamento_falta_info = {'Não vai a museus': 1, 'Sim, sinto falta de mais informações': 8, 'Não, acredito que o que tem no museu é o suficiente': 2}\n",
    "mapeamento_procurar_info = {'Não sente falta de informações': 1, 'Sim, procuro': 7, 'Não, apenas me conformo': 3}\n",
    "mapeamento_achar_info = {'Não procura essas informações': 1, 'Sim': 3, 'Não': 8}\n",
    "mapeamento = {'Qual das opções de arte abaixo você mais gosta?': mapeamento_tipo_arte, 'Com que frequência você vai aos museus?': mapeamento_frequencia, 'Como é sua experiência ao visitar um museu normalmente? Caso nunca tenha visitado, selecione a que você acredita que seguiria.': mapeamento_guia, 'O que mais te atrai em visitar museus ou exposições de arte?': mapeamento_motivo, 'Você sente falta de mais informações sobre as obras nos museus?': mapeamento_falta_info, 'Você procura saber sobre essas informações faltantes?': mapeamento_procurar_info, 'Você encontra o que precisa/esperava ao pesquisar?': mapeamento_achar_info}\n",
    "\n",
    "label_encoder = {}\n",
    "\n",
    "for i in df_x_2:\n",
    "    if df_x_2[i].dtype == object:\n",
    "        if i in mapeamento.keys():\n",
    "            df_x_2[i] = df_x_2[i].map(mapeamento[i])\n",
    "        else:\n",
    "            dicio_unicos = {}\n",
    "            unicos = list(df_x_2[i].unique())\n",
    "            for k, v in enumerate(unicos):\n",
    "                dicio_unicos[v] = k\n",
    "            df_x_2[i] = df_x_2[i].map(dicio_unicos)\n",
    "            label_encoder[i] = dicio_unicos\n",
    "\n",
    "mapeamento_usaria_app = {'Sim': 1, 'Não': 0}\n",
    "df_y_2 = df_y_2.map(mapeamento_usaria_app)\n",
    "    "
   ]
  },
  {
   "cell_type": "code",
   "execution_count": 199,
   "metadata": {},
   "outputs": [
    {
     "data": {
      "text/html": [
       "<div>\n",
       "<style scoped>\n",
       "    .dataframe tbody tr th:only-of-type {\n",
       "        vertical-align: middle;\n",
       "    }\n",
       "\n",
       "    .dataframe tbody tr th {\n",
       "        vertical-align: top;\n",
       "    }\n",
       "\n",
       "    .dataframe thead th {\n",
       "        text-align: right;\n",
       "    }\n",
       "</style>\n",
       "<table border=\"1\" class=\"dataframe\">\n",
       "  <thead>\n",
       "    <tr style=\"text-align: right;\">\n",
       "      <th></th>\n",
       "      <th>Em qual faixa etária você se encaixa?</th>\n",
       "      <th>Qual a renda per capita da sua casa?</th>\n",
       "      <th>Há quanto tempo você se interessa por arte?</th>\n",
       "      <th>Qual das opções de arte abaixo você mais gosta?</th>\n",
       "      <th>Com que frequência você vai aos museus?</th>\n",
       "      <th>Você já participou de algum curso ou atividade relacionada à arte?</th>\n",
       "      <th>Você segue artístas ou páginas relacionadas à arte nas rede sociais?</th>\n",
       "      <th>Como é sua experiência ao visitar um museu normalmente? Caso nunca tenha visitado, selecione a que você acredita que seguiria.</th>\n",
       "      <th>Você já usou um aplicativo de um museu ou relacionado à arte?</th>\n",
       "      <th>O que mais te atrai em visitar museus ou exposições de arte?</th>\n",
       "      <th>Você sente falta de mais informações sobre as obras nos museus?</th>\n",
       "      <th>Você procura saber sobre essas informações faltantes?</th>\n",
       "      <th>De que forma você costuma buscar essas informações?</th>\n",
       "      <th>Você encontra o que precisa/esperava ao pesquisar?</th>\n",
       "    </tr>\n",
       "  </thead>\n",
       "  <tbody>\n",
       "    <tr>\n",
       "      <th>0</th>\n",
       "      <td>0</td>\n",
       "      <td>0</td>\n",
       "      <td>0</td>\n",
       "      <td>8</td>\n",
       "      <td>5</td>\n",
       "      <td>0</td>\n",
       "      <td>0</td>\n",
       "      <td>2</td>\n",
       "      <td>0</td>\n",
       "      <td>6</td>\n",
       "      <td>8</td>\n",
       "      <td>7</td>\n",
       "      <td>0</td>\n",
       "      <td>8</td>\n",
       "    </tr>\n",
       "    <tr>\n",
       "      <th>1</th>\n",
       "      <td>1</td>\n",
       "      <td>1</td>\n",
       "      <td>1</td>\n",
       "      <td>0</td>\n",
       "      <td>0</td>\n",
       "      <td>1</td>\n",
       "      <td>1</td>\n",
       "      <td>0</td>\n",
       "      <td>1</td>\n",
       "      <td>0</td>\n",
       "      <td>1</td>\n",
       "      <td>1</td>\n",
       "      <td>1</td>\n",
       "      <td>1</td>\n",
       "    </tr>\n",
       "    <tr>\n",
       "      <th>2</th>\n",
       "      <td>0</td>\n",
       "      <td>1</td>\n",
       "      <td>2</td>\n",
       "      <td>6</td>\n",
       "      <td>8</td>\n",
       "      <td>2</td>\n",
       "      <td>0</td>\n",
       "      <td>2</td>\n",
       "      <td>0</td>\n",
       "      <td>10</td>\n",
       "      <td>2</td>\n",
       "      <td>1</td>\n",
       "      <td>1</td>\n",
       "      <td>1</td>\n",
       "    </tr>\n",
       "    <tr>\n",
       "      <th>3</th>\n",
       "      <td>0</td>\n",
       "      <td>2</td>\n",
       "      <td>3</td>\n",
       "      <td>8</td>\n",
       "      <td>8</td>\n",
       "      <td>0</td>\n",
       "      <td>0</td>\n",
       "      <td>2</td>\n",
       "      <td>0</td>\n",
       "      <td>6</td>\n",
       "      <td>8</td>\n",
       "      <td>3</td>\n",
       "      <td>1</td>\n",
       "      <td>1</td>\n",
       "    </tr>\n",
       "    <tr>\n",
       "      <th>4</th>\n",
       "      <td>2</td>\n",
       "      <td>3</td>\n",
       "      <td>4</td>\n",
       "      <td>8</td>\n",
       "      <td>9</td>\n",
       "      <td>2</td>\n",
       "      <td>2</td>\n",
       "      <td>10</td>\n",
       "      <td>2</td>\n",
       "      <td>9</td>\n",
       "      <td>8</td>\n",
       "      <td>3</td>\n",
       "      <td>1</td>\n",
       "      <td>1</td>\n",
       "    </tr>\n",
       "    <tr>\n",
       "      <th>...</th>\n",
       "      <td>...</td>\n",
       "      <td>...</td>\n",
       "      <td>...</td>\n",
       "      <td>...</td>\n",
       "      <td>...</td>\n",
       "      <td>...</td>\n",
       "      <td>...</td>\n",
       "      <td>...</td>\n",
       "      <td>...</td>\n",
       "      <td>...</td>\n",
       "      <td>...</td>\n",
       "      <td>...</td>\n",
       "      <td>...</td>\n",
       "      <td>...</td>\n",
       "    </tr>\n",
       "    <tr>\n",
       "      <th>243</th>\n",
       "      <td>5</td>\n",
       "      <td>1</td>\n",
       "      <td>4</td>\n",
       "      <td>8</td>\n",
       "      <td>8</td>\n",
       "      <td>0</td>\n",
       "      <td>2</td>\n",
       "      <td>2</td>\n",
       "      <td>0</td>\n",
       "      <td>9</td>\n",
       "      <td>2</td>\n",
       "      <td>1</td>\n",
       "      <td>1</td>\n",
       "      <td>1</td>\n",
       "    </tr>\n",
       "    <tr>\n",
       "      <th>244</th>\n",
       "      <td>1</td>\n",
       "      <td>1</td>\n",
       "      <td>3</td>\n",
       "      <td>8</td>\n",
       "      <td>5</td>\n",
       "      <td>0</td>\n",
       "      <td>2</td>\n",
       "      <td>2</td>\n",
       "      <td>0</td>\n",
       "      <td>10</td>\n",
       "      <td>2</td>\n",
       "      <td>1</td>\n",
       "      <td>1</td>\n",
       "      <td>1</td>\n",
       "    </tr>\n",
       "    <tr>\n",
       "      <th>245</th>\n",
       "      <td>0</td>\n",
       "      <td>2</td>\n",
       "      <td>3</td>\n",
       "      <td>8</td>\n",
       "      <td>5</td>\n",
       "      <td>0</td>\n",
       "      <td>0</td>\n",
       "      <td>2</td>\n",
       "      <td>0</td>\n",
       "      <td>9</td>\n",
       "      <td>8</td>\n",
       "      <td>7</td>\n",
       "      <td>0</td>\n",
       "      <td>8</td>\n",
       "    </tr>\n",
       "    <tr>\n",
       "      <th>246</th>\n",
       "      <td>3</td>\n",
       "      <td>2</td>\n",
       "      <td>0</td>\n",
       "      <td>4</td>\n",
       "      <td>5</td>\n",
       "      <td>0</td>\n",
       "      <td>2</td>\n",
       "      <td>2</td>\n",
       "      <td>0</td>\n",
       "      <td>6</td>\n",
       "      <td>8</td>\n",
       "      <td>3</td>\n",
       "      <td>1</td>\n",
       "      <td>1</td>\n",
       "    </tr>\n",
       "    <tr>\n",
       "      <th>247</th>\n",
       "      <td>0</td>\n",
       "      <td>1</td>\n",
       "      <td>5</td>\n",
       "      <td>8</td>\n",
       "      <td>5</td>\n",
       "      <td>2</td>\n",
       "      <td>0</td>\n",
       "      <td>2</td>\n",
       "      <td>0</td>\n",
       "      <td>6</td>\n",
       "      <td>2</td>\n",
       "      <td>1</td>\n",
       "      <td>1</td>\n",
       "      <td>1</td>\n",
       "    </tr>\n",
       "  </tbody>\n",
       "</table>\n",
       "<p>248 rows × 14 columns</p>\n",
       "</div>"
      ],
      "text/plain": [
       "     Em qual faixa etária você se encaixa?  \\\n",
       "0                                        0   \n",
       "1                                        1   \n",
       "2                                        0   \n",
       "3                                        0   \n",
       "4                                        2   \n",
       "..                                     ...   \n",
       "243                                      5   \n",
       "244                                      1   \n",
       "245                                      0   \n",
       "246                                      3   \n",
       "247                                      0   \n",
       "\n",
       "     Qual a renda per capita da sua casa?  \\\n",
       "0                                       0   \n",
       "1                                       1   \n",
       "2                                       1   \n",
       "3                                       2   \n",
       "4                                       3   \n",
       "..                                    ...   \n",
       "243                                     1   \n",
       "244                                     1   \n",
       "245                                     2   \n",
       "246                                     2   \n",
       "247                                     1   \n",
       "\n",
       "     Há quanto tempo você se interessa por arte?  \\\n",
       "0                                              0   \n",
       "1                                              1   \n",
       "2                                              2   \n",
       "3                                              3   \n",
       "4                                              4   \n",
       "..                                           ...   \n",
       "243                                            4   \n",
       "244                                            3   \n",
       "245                                            3   \n",
       "246                                            0   \n",
       "247                                            5   \n",
       "\n",
       "     Qual das opções de arte abaixo você mais gosta?  \\\n",
       "0                                                  8   \n",
       "1                                                  0   \n",
       "2                                                  6   \n",
       "3                                                  8   \n",
       "4                                                  8   \n",
       "..                                               ...   \n",
       "243                                                8   \n",
       "244                                                8   \n",
       "245                                                8   \n",
       "246                                                4   \n",
       "247                                                8   \n",
       "\n",
       "     Com que frequência você vai aos museus?  \\\n",
       "0                                          5   \n",
       "1                                          0   \n",
       "2                                          8   \n",
       "3                                          8   \n",
       "4                                          9   \n",
       "..                                       ...   \n",
       "243                                        8   \n",
       "244                                        5   \n",
       "245                                        5   \n",
       "246                                        5   \n",
       "247                                        5   \n",
       "\n",
       "     Você já participou de algum curso ou atividade relacionada à arte?  \\\n",
       "0                                                    0                    \n",
       "1                                                    1                    \n",
       "2                                                    2                    \n",
       "3                                                    0                    \n",
       "4                                                    2                    \n",
       "..                                                 ...                    \n",
       "243                                                  0                    \n",
       "244                                                  0                    \n",
       "245                                                  0                    \n",
       "246                                                  0                    \n",
       "247                                                  2                    \n",
       "\n",
       "     Você segue artístas ou páginas relacionadas à arte nas rede sociais?  \\\n",
       "0                                                    0                      \n",
       "1                                                    1                      \n",
       "2                                                    0                      \n",
       "3                                                    0                      \n",
       "4                                                    2                      \n",
       "..                                                 ...                      \n",
       "243                                                  2                      \n",
       "244                                                  2                      \n",
       "245                                                  0                      \n",
       "246                                                  2                      \n",
       "247                                                  0                      \n",
       "\n",
       "     Como é sua experiência ao visitar um museu normalmente? Caso nunca tenha visitado, selecione a que você acredita que seguiria.  \\\n",
       "0                                                    2                                                                                \n",
       "1                                                    0                                                                                \n",
       "2                                                    2                                                                                \n",
       "3                                                    2                                                                                \n",
       "4                                                   10                                                                                \n",
       "..                                                 ...                                                                                \n",
       "243                                                  2                                                                                \n",
       "244                                                  2                                                                                \n",
       "245                                                  2                                                                                \n",
       "246                                                  2                                                                                \n",
       "247                                                  2                                                                                \n",
       "\n",
       "     Você já usou um aplicativo de um museu ou relacionado à arte?  \\\n",
       "0                                                    0               \n",
       "1                                                    1               \n",
       "2                                                    0               \n",
       "3                                                    0               \n",
       "4                                                    2               \n",
       "..                                                 ...               \n",
       "243                                                  0               \n",
       "244                                                  0               \n",
       "245                                                  0               \n",
       "246                                                  0               \n",
       "247                                                  0               \n",
       "\n",
       "     O que mais te atrai em visitar museus ou exposições de arte?  \\\n",
       "0                                                    6              \n",
       "1                                                    0              \n",
       "2                                                   10              \n",
       "3                                                    6              \n",
       "4                                                    9              \n",
       "..                                                 ...              \n",
       "243                                                  9              \n",
       "244                                                 10              \n",
       "245                                                  9              \n",
       "246                                                  6              \n",
       "247                                                  6              \n",
       "\n",
       "     Você sente falta de mais informações sobre as obras nos museus?  \\\n",
       "0                                                    8                 \n",
       "1                                                    1                 \n",
       "2                                                    2                 \n",
       "3                                                    8                 \n",
       "4                                                    8                 \n",
       "..                                                 ...                 \n",
       "243                                                  2                 \n",
       "244                                                  2                 \n",
       "245                                                  8                 \n",
       "246                                                  8                 \n",
       "247                                                  2                 \n",
       "\n",
       "     Você procura saber sobre essas informações faltantes?  \\\n",
       "0                                                    7       \n",
       "1                                                    1       \n",
       "2                                                    1       \n",
       "3                                                    3       \n",
       "4                                                    3       \n",
       "..                                                 ...       \n",
       "243                                                  1       \n",
       "244                                                  1       \n",
       "245                                                  7       \n",
       "246                                                  3       \n",
       "247                                                  1       \n",
       "\n",
       "     De que forma você costuma buscar essas informações?  \\\n",
       "0                                                    0     \n",
       "1                                                    1     \n",
       "2                                                    1     \n",
       "3                                                    1     \n",
       "4                                                    1     \n",
       "..                                                 ...     \n",
       "243                                                  1     \n",
       "244                                                  1     \n",
       "245                                                  0     \n",
       "246                                                  1     \n",
       "247                                                  1     \n",
       "\n",
       "     Você encontra o que precisa/esperava ao pesquisar?  \n",
       "0                                                    8   \n",
       "1                                                    1   \n",
       "2                                                    1   \n",
       "3                                                    1   \n",
       "4                                                    1   \n",
       "..                                                 ...   \n",
       "243                                                  1   \n",
       "244                                                  1   \n",
       "245                                                  8   \n",
       "246                                                  1   \n",
       "247                                                  1   \n",
       "\n",
       "[248 rows x 14 columns]"
      ]
     },
     "metadata": {},
     "output_type": "display_data"
    },
    {
     "data": {
      "text/plain": [
       "0      1\n",
       "1      0\n",
       "2      0\n",
       "3      0\n",
       "4      0\n",
       "      ..\n",
       "243    0\n",
       "244    0\n",
       "245    1\n",
       "246    0\n",
       "247    0\n",
       "Name: Usaria o aplicativo?, Length: 248, dtype: int64"
      ]
     },
     "metadata": {},
     "output_type": "display_data"
    }
   ],
   "source": [
    "display(df_x_2)\n",
    "display(df_y_2)"
   ]
  },
  {
   "cell_type": "code",
   "execution_count": 200,
   "metadata": {},
   "outputs": [
    {
     "data": {
      "text/plain": [
       "{'Em qual faixa etária você se encaixa?': {'Menos de 18 anos': 0,\n",
       "  'Entre 25 e 35 anos': 1,\n",
       "  'Entre 46 e 59 anos': 2,\n",
       "  'Entre 36 e 45 anos': 3,\n",
       "  'Entre 18 e 24 anos': 4,\n",
       "  '60+ anos': 5},\n",
       " 'Qual a renda per capita da sua casa?': {'Classes D/E: até R$ 2,9 mil': 0,\n",
       "  'Classe C: entre R$ 2,9 mil e R$ 7,1 mil': 1,\n",
       "  'Classe B: entre R$ 7,1 mil e R$ 22 mil': 2,\n",
       "  'Classe A: superior a R$ 22 mil': 3},\n",
       " 'Há quanto tempo você se interessa por arte?': {'Menos de 2 anos': 0,\n",
       "  'Não me interesso': 1,\n",
       "  'De 2 a 4 anos': 2,\n",
       "  'Estou iniciando agora': 3,\n",
       "  'Há mais de 10 anos': 4,\n",
       "  'De 5 a 9 anos': 5},\n",
       " 'Você já participou de algum curso ou atividade relacionada à arte?': {'Não': 0,\n",
       "  'Não se interessa por arte': 1,\n",
       "  'Sim': 2},\n",
       " 'Você segue artístas ou páginas relacionadas à arte nas rede sociais?': {'Sim': 0,\n",
       "  'Não se interessa por arte': 1,\n",
       "  'Não': 2},\n",
       " 'Você já usou um aplicativo de um museu ou relacionado à arte?': {'Não': 0,\n",
       "  'Não se interessa por arte': 1,\n",
       "  'Sim': 2},\n",
       " 'De que forma você costuma buscar essas informações?': {'Busca em navegadores (Google, Yahoo, Edge, Opera, Fox, entre outros)': 0,\n",
       "  'Não procura essas informações': 1,\n",
       "  'Aplicativos': 2,\n",
       "  'Busca em inteligências artificiais (ChatGPT, Gemini, entre outros)': 3,\n",
       "  'Redes sociais': 4,\n",
       "  'Blogs favoritos': 5,\n",
       "  'Livros': 6}}"
      ]
     },
     "execution_count": 200,
     "metadata": {},
     "output_type": "execute_result"
    }
   ],
   "source": [
    "label_encoder"
   ]
  },
  {
   "cell_type": "markdown",
   "metadata": {},
   "source": [
    "## Modelo básico"
   ]
  },
  {
   "cell_type": "markdown",
   "metadata": {},
   "source": [
    "### Dividindo entre treino e teste"
   ]
  },
  {
   "cell_type": "code",
   "execution_count": 205,
   "metadata": {},
   "outputs": [
    {
     "data": {
      "text/html": [
       "<div>\n",
       "<style scoped>\n",
       "    .dataframe tbody tr th:only-of-type {\n",
       "        vertical-align: middle;\n",
       "    }\n",
       "\n",
       "    .dataframe tbody tr th {\n",
       "        vertical-align: top;\n",
       "    }\n",
       "\n",
       "    .dataframe thead th {\n",
       "        text-align: right;\n",
       "    }\n",
       "</style>\n",
       "<table border=\"1\" class=\"dataframe\">\n",
       "  <thead>\n",
       "    <tr style=\"text-align: right;\">\n",
       "      <th></th>\n",
       "      <th>Em qual faixa etária você se encaixa?</th>\n",
       "      <th>Qual a renda per capita da sua casa?</th>\n",
       "      <th>Há quanto tempo você se interessa por arte?</th>\n",
       "      <th>Qual das opções de arte abaixo você mais gosta?</th>\n",
       "      <th>Com que frequência você vai aos museus?</th>\n",
       "      <th>Você já participou de algum curso ou atividade relacionada à arte?</th>\n",
       "      <th>Você segue artístas ou páginas relacionadas à arte nas rede sociais?</th>\n",
       "      <th>Como é sua experiência ao visitar um museu normalmente? Caso nunca tenha visitado, selecione a que você acredita que seguiria.</th>\n",
       "      <th>Você já usou um aplicativo de um museu ou relacionado à arte?</th>\n",
       "      <th>O que mais te atrai em visitar museus ou exposições de arte?</th>\n",
       "      <th>Você sente falta de mais informações sobre as obras nos museus?</th>\n",
       "      <th>Você procura saber sobre essas informações faltantes?</th>\n",
       "      <th>De que forma você costuma buscar essas informações?</th>\n",
       "      <th>Você encontra o que precisa/esperava ao pesquisar?</th>\n",
       "    </tr>\n",
       "  </thead>\n",
       "  <tbody>\n",
       "    <tr>\n",
       "      <th>101</th>\n",
       "      <td>0</td>\n",
       "      <td>1</td>\n",
       "      <td>1</td>\n",
       "      <td>0</td>\n",
       "      <td>0</td>\n",
       "      <td>1</td>\n",
       "      <td>1</td>\n",
       "      <td>0</td>\n",
       "      <td>1</td>\n",
       "      <td>0</td>\n",
       "      <td>1</td>\n",
       "      <td>1</td>\n",
       "      <td>1</td>\n",
       "      <td>1</td>\n",
       "    </tr>\n",
       "    <tr>\n",
       "      <th>198</th>\n",
       "      <td>3</td>\n",
       "      <td>1</td>\n",
       "      <td>1</td>\n",
       "      <td>0</td>\n",
       "      <td>0</td>\n",
       "      <td>1</td>\n",
       "      <td>1</td>\n",
       "      <td>0</td>\n",
       "      <td>1</td>\n",
       "      <td>0</td>\n",
       "      <td>1</td>\n",
       "      <td>1</td>\n",
       "      <td>1</td>\n",
       "      <td>1</td>\n",
       "    </tr>\n",
       "    <tr>\n",
       "      <th>126</th>\n",
       "      <td>0</td>\n",
       "      <td>3</td>\n",
       "      <td>1</td>\n",
       "      <td>0</td>\n",
       "      <td>0</td>\n",
       "      <td>1</td>\n",
       "      <td>1</td>\n",
       "      <td>0</td>\n",
       "      <td>1</td>\n",
       "      <td>0</td>\n",
       "      <td>1</td>\n",
       "      <td>1</td>\n",
       "      <td>1</td>\n",
       "      <td>1</td>\n",
       "    </tr>\n",
       "    <tr>\n",
       "      <th>69</th>\n",
       "      <td>0</td>\n",
       "      <td>2</td>\n",
       "      <td>4</td>\n",
       "      <td>8</td>\n",
       "      <td>5</td>\n",
       "      <td>2</td>\n",
       "      <td>0</td>\n",
       "      <td>2</td>\n",
       "      <td>0</td>\n",
       "      <td>6</td>\n",
       "      <td>2</td>\n",
       "      <td>1</td>\n",
       "      <td>1</td>\n",
       "      <td>1</td>\n",
       "    </tr>\n",
       "    <tr>\n",
       "      <th>201</th>\n",
       "      <td>1</td>\n",
       "      <td>1</td>\n",
       "      <td>1</td>\n",
       "      <td>0</td>\n",
       "      <td>0</td>\n",
       "      <td>1</td>\n",
       "      <td>1</td>\n",
       "      <td>0</td>\n",
       "      <td>1</td>\n",
       "      <td>0</td>\n",
       "      <td>1</td>\n",
       "      <td>1</td>\n",
       "      <td>1</td>\n",
       "      <td>1</td>\n",
       "    </tr>\n",
       "  </tbody>\n",
       "</table>\n",
       "</div>"
      ],
      "text/plain": [
       "     Em qual faixa etária você se encaixa?  \\\n",
       "101                                      0   \n",
       "198                                      3   \n",
       "126                                      0   \n",
       "69                                       0   \n",
       "201                                      1   \n",
       "\n",
       "     Qual a renda per capita da sua casa?  \\\n",
       "101                                     1   \n",
       "198                                     1   \n",
       "126                                     3   \n",
       "69                                      2   \n",
       "201                                     1   \n",
       "\n",
       "     Há quanto tempo você se interessa por arte?  \\\n",
       "101                                            1   \n",
       "198                                            1   \n",
       "126                                            1   \n",
       "69                                             4   \n",
       "201                                            1   \n",
       "\n",
       "     Qual das opções de arte abaixo você mais gosta?  \\\n",
       "101                                                0   \n",
       "198                                                0   \n",
       "126                                                0   \n",
       "69                                                 8   \n",
       "201                                                0   \n",
       "\n",
       "     Com que frequência você vai aos museus?  \\\n",
       "101                                        0   \n",
       "198                                        0   \n",
       "126                                        0   \n",
       "69                                         5   \n",
       "201                                        0   \n",
       "\n",
       "     Você já participou de algum curso ou atividade relacionada à arte?  \\\n",
       "101                                                  1                    \n",
       "198                                                  1                    \n",
       "126                                                  1                    \n",
       "69                                                   2                    \n",
       "201                                                  1                    \n",
       "\n",
       "     Você segue artístas ou páginas relacionadas à arte nas rede sociais?  \\\n",
       "101                                                  1                      \n",
       "198                                                  1                      \n",
       "126                                                  1                      \n",
       "69                                                   0                      \n",
       "201                                                  1                      \n",
       "\n",
       "     Como é sua experiência ao visitar um museu normalmente? Caso nunca tenha visitado, selecione a que você acredita que seguiria.  \\\n",
       "101                                                  0                                                                                \n",
       "198                                                  0                                                                                \n",
       "126                                                  0                                                                                \n",
       "69                                                   2                                                                                \n",
       "201                                                  0                                                                                \n",
       "\n",
       "     Você já usou um aplicativo de um museu ou relacionado à arte?  \\\n",
       "101                                                  1               \n",
       "198                                                  1               \n",
       "126                                                  1               \n",
       "69                                                   0               \n",
       "201                                                  1               \n",
       "\n",
       "     O que mais te atrai em visitar museus ou exposições de arte?  \\\n",
       "101                                                  0              \n",
       "198                                                  0              \n",
       "126                                                  0              \n",
       "69                                                   6              \n",
       "201                                                  0              \n",
       "\n",
       "     Você sente falta de mais informações sobre as obras nos museus?  \\\n",
       "101                                                  1                 \n",
       "198                                                  1                 \n",
       "126                                                  1                 \n",
       "69                                                   2                 \n",
       "201                                                  1                 \n",
       "\n",
       "     Você procura saber sobre essas informações faltantes?  \\\n",
       "101                                                  1       \n",
       "198                                                  1       \n",
       "126                                                  1       \n",
       "69                                                   1       \n",
       "201                                                  1       \n",
       "\n",
       "     De que forma você costuma buscar essas informações?  \\\n",
       "101                                                  1     \n",
       "198                                                  1     \n",
       "126                                                  1     \n",
       "69                                                   1     \n",
       "201                                                  1     \n",
       "\n",
       "     Você encontra o que precisa/esperava ao pesquisar?  \n",
       "101                                                  1   \n",
       "198                                                  1   \n",
       "126                                                  1   \n",
       "69                                                   1   \n",
       "201                                                  1   "
      ]
     },
     "metadata": {},
     "output_type": "display_data"
    },
    {
     "data": {
      "text/plain": [
       "101    0\n",
       "198    0\n",
       "126    0\n",
       "69     0\n",
       "201    0\n",
       "      ..\n",
       "106    1\n",
       "14     1\n",
       "92     1\n",
       "179    0\n",
       "102    0\n",
       "Name: Usaria o aplicativo?, Length: 186, dtype: int64"
      ]
     },
     "metadata": {},
     "output_type": "display_data"
    },
    {
     "data": {
      "text/html": [
       "<div>\n",
       "<style scoped>\n",
       "    .dataframe tbody tr th:only-of-type {\n",
       "        vertical-align: middle;\n",
       "    }\n",
       "\n",
       "    .dataframe tbody tr th {\n",
       "        vertical-align: top;\n",
       "    }\n",
       "\n",
       "    .dataframe thead th {\n",
       "        text-align: right;\n",
       "    }\n",
       "</style>\n",
       "<table border=\"1\" class=\"dataframe\">\n",
       "  <thead>\n",
       "    <tr style=\"text-align: right;\">\n",
       "      <th></th>\n",
       "      <th>Em qual faixa etária você se encaixa?</th>\n",
       "      <th>Qual a renda per capita da sua casa?</th>\n",
       "      <th>Há quanto tempo você se interessa por arte?</th>\n",
       "      <th>Qual das opções de arte abaixo você mais gosta?</th>\n",
       "      <th>Com que frequência você vai aos museus?</th>\n",
       "      <th>Você já participou de algum curso ou atividade relacionada à arte?</th>\n",
       "      <th>Você segue artístas ou páginas relacionadas à arte nas rede sociais?</th>\n",
       "      <th>Como é sua experiência ao visitar um museu normalmente? Caso nunca tenha visitado, selecione a que você acredita que seguiria.</th>\n",
       "      <th>Você já usou um aplicativo de um museu ou relacionado à arte?</th>\n",
       "      <th>O que mais te atrai em visitar museus ou exposições de arte?</th>\n",
       "      <th>Você sente falta de mais informações sobre as obras nos museus?</th>\n",
       "      <th>Você procura saber sobre essas informações faltantes?</th>\n",
       "      <th>De que forma você costuma buscar essas informações?</th>\n",
       "      <th>Você encontra o que precisa/esperava ao pesquisar?</th>\n",
       "    </tr>\n",
       "  </thead>\n",
       "  <tbody>\n",
       "    <tr>\n",
       "      <th>33</th>\n",
       "      <td>0</td>\n",
       "      <td>1</td>\n",
       "      <td>2</td>\n",
       "      <td>8</td>\n",
       "      <td>1</td>\n",
       "      <td>0</td>\n",
       "      <td>0</td>\n",
       "      <td>2</td>\n",
       "      <td>0</td>\n",
       "      <td>9</td>\n",
       "      <td>2</td>\n",
       "      <td>1</td>\n",
       "      <td>1</td>\n",
       "      <td>1</td>\n",
       "    </tr>\n",
       "    <tr>\n",
       "      <th>6</th>\n",
       "      <td>3</td>\n",
       "      <td>3</td>\n",
       "      <td>1</td>\n",
       "      <td>0</td>\n",
       "      <td>0</td>\n",
       "      <td>1</td>\n",
       "      <td>1</td>\n",
       "      <td>0</td>\n",
       "      <td>1</td>\n",
       "      <td>0</td>\n",
       "      <td>1</td>\n",
       "      <td>1</td>\n",
       "      <td>1</td>\n",
       "      <td>1</td>\n",
       "    </tr>\n",
       "    <tr>\n",
       "      <th>182</th>\n",
       "      <td>1</td>\n",
       "      <td>1</td>\n",
       "      <td>5</td>\n",
       "      <td>8</td>\n",
       "      <td>8</td>\n",
       "      <td>0</td>\n",
       "      <td>2</td>\n",
       "      <td>10</td>\n",
       "      <td>0</td>\n",
       "      <td>6</td>\n",
       "      <td>8</td>\n",
       "      <td>7</td>\n",
       "      <td>0</td>\n",
       "      <td>3</td>\n",
       "    </tr>\n",
       "    <tr>\n",
       "      <th>86</th>\n",
       "      <td>0</td>\n",
       "      <td>2</td>\n",
       "      <td>1</td>\n",
       "      <td>0</td>\n",
       "      <td>0</td>\n",
       "      <td>1</td>\n",
       "      <td>1</td>\n",
       "      <td>0</td>\n",
       "      <td>1</td>\n",
       "      <td>0</td>\n",
       "      <td>1</td>\n",
       "      <td>1</td>\n",
       "      <td>1</td>\n",
       "      <td>1</td>\n",
       "    </tr>\n",
       "    <tr>\n",
       "      <th>156</th>\n",
       "      <td>0</td>\n",
       "      <td>1</td>\n",
       "      <td>2</td>\n",
       "      <td>8</td>\n",
       "      <td>5</td>\n",
       "      <td>0</td>\n",
       "      <td>0</td>\n",
       "      <td>8</td>\n",
       "      <td>0</td>\n",
       "      <td>9</td>\n",
       "      <td>8</td>\n",
       "      <td>7</td>\n",
       "      <td>0</td>\n",
       "      <td>3</td>\n",
       "    </tr>\n",
       "  </tbody>\n",
       "</table>\n",
       "</div>"
      ],
      "text/plain": [
       "     Em qual faixa etária você se encaixa?  \\\n",
       "33                                       0   \n",
       "6                                        3   \n",
       "182                                      1   \n",
       "86                                       0   \n",
       "156                                      0   \n",
       "\n",
       "     Qual a renda per capita da sua casa?  \\\n",
       "33                                      1   \n",
       "6                                       3   \n",
       "182                                     1   \n",
       "86                                      2   \n",
       "156                                     1   \n",
       "\n",
       "     Há quanto tempo você se interessa por arte?  \\\n",
       "33                                             2   \n",
       "6                                              1   \n",
       "182                                            5   \n",
       "86                                             1   \n",
       "156                                            2   \n",
       "\n",
       "     Qual das opções de arte abaixo você mais gosta?  \\\n",
       "33                                                 8   \n",
       "6                                                  0   \n",
       "182                                                8   \n",
       "86                                                 0   \n",
       "156                                                8   \n",
       "\n",
       "     Com que frequência você vai aos museus?  \\\n",
       "33                                         1   \n",
       "6                                          0   \n",
       "182                                        8   \n",
       "86                                         0   \n",
       "156                                        5   \n",
       "\n",
       "     Você já participou de algum curso ou atividade relacionada à arte?  \\\n",
       "33                                                   0                    \n",
       "6                                                    1                    \n",
       "182                                                  0                    \n",
       "86                                                   1                    \n",
       "156                                                  0                    \n",
       "\n",
       "     Você segue artístas ou páginas relacionadas à arte nas rede sociais?  \\\n",
       "33                                                   0                      \n",
       "6                                                    1                      \n",
       "182                                                  2                      \n",
       "86                                                   1                      \n",
       "156                                                  0                      \n",
       "\n",
       "     Como é sua experiência ao visitar um museu normalmente? Caso nunca tenha visitado, selecione a que você acredita que seguiria.  \\\n",
       "33                                                   2                                                                                \n",
       "6                                                    0                                                                                \n",
       "182                                                 10                                                                                \n",
       "86                                                   0                                                                                \n",
       "156                                                  8                                                                                \n",
       "\n",
       "     Você já usou um aplicativo de um museu ou relacionado à arte?  \\\n",
       "33                                                   0               \n",
       "6                                                    1               \n",
       "182                                                  0               \n",
       "86                                                   1               \n",
       "156                                                  0               \n",
       "\n",
       "     O que mais te atrai em visitar museus ou exposições de arte?  \\\n",
       "33                                                   9              \n",
       "6                                                    0              \n",
       "182                                                  6              \n",
       "86                                                   0              \n",
       "156                                                  9              \n",
       "\n",
       "     Você sente falta de mais informações sobre as obras nos museus?  \\\n",
       "33                                                   2                 \n",
       "6                                                    1                 \n",
       "182                                                  8                 \n",
       "86                                                   1                 \n",
       "156                                                  8                 \n",
       "\n",
       "     Você procura saber sobre essas informações faltantes?  \\\n",
       "33                                                   1       \n",
       "6                                                    1       \n",
       "182                                                  7       \n",
       "86                                                   1       \n",
       "156                                                  7       \n",
       "\n",
       "     De que forma você costuma buscar essas informações?  \\\n",
       "33                                                   1     \n",
       "6                                                    1     \n",
       "182                                                  0     \n",
       "86                                                   1     \n",
       "156                                                  0     \n",
       "\n",
       "     Você encontra o que precisa/esperava ao pesquisar?  \n",
       "33                                                   1   \n",
       "6                                                    1   \n",
       "182                                                  3   \n",
       "86                                                   1   \n",
       "156                                                  3   "
      ]
     },
     "metadata": {},
     "output_type": "display_data"
    },
    {
     "data": {
      "text/plain": [
       "33     0\n",
       "6      0\n",
       "182    1\n",
       "86     0\n",
       "156    1\n",
       "      ..\n",
       "193    0\n",
       "97     1\n",
       "154    1\n",
       "75     0\n",
       "82     0\n",
       "Name: Usaria o aplicativo?, Length: 62, dtype: int64"
      ]
     },
     "metadata": {},
     "output_type": "display_data"
    },
    {
     "name": "stdout",
     "output_type": "stream",
     "text": [
      "Quantidade de linhas do treino:  186\n",
      "Quantidade de linhas do teste:  62\n"
     ]
    }
   ],
   "source": [
    "from sklearn.model_selection import train_test_split\n",
    "\n",
    "\n",
    "df_x, teste_x, df_y, teste_y = train_test_split(df_x_2, df_y_2, test_size=0.25, random_state=SEED)\n",
    "\n",
    "display(df_x.head())\n",
    "display(df_y)\n",
    "display(teste_x.head())\n",
    "display(teste_y)\n",
    "print(\"Quantidade de linhas do treino: \", df_x.shape[0])\n",
    "print(\"Quantidade de linhas do teste: \", teste_x.shape[0])"
   ]
  },
  {
   "cell_type": "markdown",
   "metadata": {},
   "source": [
    "### Aplicando modelo"
   ]
  },
  {
   "cell_type": "code",
   "execution_count": 206,
   "metadata": {},
   "outputs": [
    {
     "data": {
      "text/plain": [
       "array([0, 0, 1, 0, 1, 0, 1, 0, 0, 1, 1, 1, 0, 1, 1, 0, 0, 0, 1, 1, 0, 1,\n",
       "       0, 0, 0, 0, 0, 0, 1, 0, 0, 0, 0, 0, 1, 0, 1, 1, 1, 0, 0, 0, 0, 1,\n",
       "       0, 0, 1, 1, 0, 0, 0, 0, 0, 1, 1, 0, 0, 0, 1, 1, 0, 0], dtype=int64)"
      ]
     },
     "metadata": {},
     "output_type": "display_data"
    }
   ],
   "source": [
    "from sklearn.neighbors import KNeighborsClassifier\n",
    "\n",
    "K = 5\n",
    "\n",
    "knn = KNeighborsClassifier(n_neighbors=K)\n",
    "knn.fit(df_x, df_y)\n",
    "predicao_knn = knn.predict(teste_x)\n",
    "\n",
    "display(predicao_knn)"
   ]
  },
  {
   "cell_type": "markdown",
   "metadata": {},
   "source": [
    "### Avaliando"
   ]
  },
  {
   "cell_type": "code",
   "execution_count": 207,
   "metadata": {},
   "outputs": [
    {
     "name": "stdout",
     "output_type": "stream",
     "text": [
      "              precision    recall  f1-score   support\n",
      "\n",
      "         Não       1.00      1.00      1.00        39\n",
      "         Sim       1.00      1.00      1.00        23\n",
      "\n",
      "    accuracy                           1.00        62\n",
      "   macro avg       1.00      1.00      1.00        62\n",
      "weighted avg       1.00      1.00      1.00        62\n",
      "\n"
     ]
    }
   ],
   "source": [
    "from sklearn.metrics import *\n",
    "\n",
    "print(classification_report(teste_y, predicao_knn, target_names=list(le_y.classes_)))"
   ]
  },
  {
   "cell_type": "code",
   "execution_count": 208,
   "metadata": {},
   "outputs": [
    {
     "data": {
      "text/plain": [
       "<sklearn.metrics._plot.confusion_matrix.ConfusionMatrixDisplay at 0x1da3249ec90>"
      ]
     },
     "execution_count": 208,
     "metadata": {},
     "output_type": "execute_result"
    },
    {
     "data": {
      "image/png": "[encoded data removed]",
      "text/plain": [
       "<Figure size 640x480 with 2 Axes>"
      ]
     },
     "metadata": {},
     "output_type": "display_data"
    }
   ],
   "source": [
    "ConfusionMatrixDisplay(confusion_matrix(teste_y, predicao_knn)).plot()"
   ]
  },
  {
   "cell_type": "markdown",
   "metadata": {},
   "source": [
    "## Modelo usando Cross Validation "
   ]
  },
  {
   "cell_type": "markdown",
   "metadata": {},
   "source": [
    "### Kfold e Cross Validation"
   ]
  },
  {
   "cell_type": "code",
   "execution_count": 403,
   "metadata": {},
   "outputs": [
    {
     "name": "stdout",
     "output_type": "stream",
     "text": [
      "1.0\n",
      "0.967741935483871\n",
      "0.9838709677419355\n",
      "0.967741935483871\n"
     ]
    },
    {
     "data": {
      "image/png": "[encoded data removed]",
      "text/plain": [
       "<Figure size 640x480 with 2 Axes>"
      ]
     },
     "metadata": {},
     "output_type": "display_data"
    },
    {
     "data": {
      "image/png": "[encoded data removed]",
      "text/plain": [
       "<Figure size 640x480 with 2 Axes>"
      ]
     },
     "metadata": {},
     "output_type": "display_data"
    },
    {
     "data": {
      "image/png": "[encoded data removed]",
      "text/plain": [
       "<Figure size 640x480 with 2 Axes>"
      ]
     },
     "metadata": {},
     "output_type": "display_data"
    },
    {
     "data": {
      "image/png": "[encoded data removed]",
      "text/plain": [
       "<Figure size 640x480 with 2 Axes>"
      ]
     },
     "metadata": {},
     "output_type": "display_data"
    }
   ],
   "source": [
    "from sklearn.model_selection import cross_val_score\n",
    "from sklearn.model_selection import KFold\n",
    "\n",
    "kf = KFold(n_splits=4, random_state=SEED, shuffle=True)\n",
    "knn = KNeighborsClassifier(n_neighbors=K)\n",
    "\n",
    "lista_acuracias = []\n",
    "lista_precisions = []\n",
    "\n",
    "for i, (train_index, test_index) in enumerate(kf.split(df_x)):\n",
    "    # Separando treino e teste de x e y\n",
    "    train_x, test_x = df_x_2.iloc[train_index], df_x_2.iloc[test_index]\n",
    "    train_y, test_y = df_y_2[train_index], df_y_2[test_index]\n",
    "\n",
    "    # Treinando o modelo\n",
    "    knn.fit(train_x, train_y)\n",
    "\n",
    "    # Predict\n",
    "    predict = knn.predict(test_x)\n",
    "\n",
    "    # Avaliando modelo\n",
    "    lista_acuracias.append(accuracy_score(test_y, predict))\n",
    "    lista_precisions.append(precision_score(test_y, predict))\n",
    "    print(accuracy_score(test_y, predict))\n",
    "    matriz_confusao = confusion_matrix(test_y, predict)\n",
    "    matriz_confusao_display = ConfusionMatrixDisplay(matriz_confusao)\n",
    "    matriz_confusao_display.plot()"
   ]
  },
  {
   "cell_type": "code",
   "execution_count": 395,
   "metadata": {},
   "outputs": [
    {
     "name": "stdout",
     "output_type": "stream",
     "text": [
      "Acurácia média:  0.8830645161290323\n",
      "Precision médio de \"Sim\":  0.7634469696969698\n"
     ]
    }
   ],
   "source": [
    "print('Acurácia média: ', sum(lista_acuracias)/len(lista_acuracias))\n",
    "print('Precision médio de \"Sim\": ', sum(lista_precisions)/len(lista_precisions))"
   ]
  },
  {
   "cell_type": "markdown",
   "metadata": {},
   "source": [
    "### GridSearchCV"
   ]
  },
  {
   "cell_type": "code",
   "execution_count": 404,
   "metadata": {},
   "outputs": [
    {
     "name": "stdout",
     "output_type": "stream",
     "text": [
      "Melhores hiperparâmetros: {'algorithm': 'auto', 'leaf_size': 15, 'n_neighbors': 2, 'weights': 'distance'}\n",
      "Melhor acurácia: 0.9945945945945945\n"
     ]
    }
   ],
   "source": [
    "from sklearn.model_selection import GridSearchCV\n",
    "\n",
    "parametros = {\n",
    "    'n_neighbors': list(range(2, 11)),\n",
    "    'weights': ['uniform', 'distance'],\n",
    "    'algorithm': ['auto', 'ball_tree', 'kd_tree', 'brute'],\n",
    "    'leaf_size': list(range(15, 46))\n",
    "}\n",
    "\n",
    "knn = KNeighborsClassifier()\n",
    "\n",
    "grid = GridSearchCV(estimator=knn, param_grid=parametros, scoring='accuracy')\n",
    "\n",
    "grid.fit(df_x, df_y)\n",
    "\n",
    "print(\"Melhores hiperparâmetros:\", grid.best_params_)\n",
    "print(\"Melhor acurácia:\", grid.best_score_)"
   ]
  },
  {
   "cell_type": "code",
   "execution_count": 406,
   "metadata": {},
   "outputs": [
    {
     "name": "stdout",
     "output_type": "stream",
     "text": [
      "              precision    recall  f1-score   support\n",
      "\n",
      "         Não       1.00      0.96      0.98        49\n",
      "         Sim       0.87      1.00      0.93        13\n",
      "\n",
      "    accuracy                           0.97        62\n",
      "   macro avg       0.93      0.98      0.95        62\n",
      "weighted avg       0.97      0.97      0.97        62\n",
      "\n"
     ]
    },
    {
     "data": {
      "text/plain": [
       "<sklearn.metrics._plot.confusion_matrix.ConfusionMatrixDisplay at 0x110396b1390>"
      ]
     },
     "execution_count": 406,
     "metadata": {},
     "output_type": "execute_result"
    },
    {
     "data": {
      "image/png": "[encoded data removed]",
      "text/plain": [
       "<Figure size 640x480 with 2 Axes>"
      ]
     },
     "metadata": {},
     "output_type": "display_data"
    }
   ],
   "source": [
    "from sklearn.neighbors import KNeighborsClassifier\n",
    "\n",
    "knn = KNeighborsClassifier(n_neighbors = 7, algorithm = 'ball_tree', leaf_size = 37, weights = 'uniform')\n",
    "knn.fit(df_x, df_y)\n",
    "predicao_knn = knn.predict(teste_x)\n",
    "\n",
    "print(classification_report(teste_y, predicao_knn, target_names=list(le_y.classes_)))\n",
    "ConfusionMatrixDisplay(confusion_matrix(teste_y, predicao_knn)).plot()"
   ]
  },
  {
   "cell_type": "markdown",
   "metadata": {},
   "source": [
    "### Cross Validation com KFold e GridSearchCV"
   ]
  },
  {
   "cell_type": "code",
   "execution_count": 410,
   "metadata": {},
   "outputs": [
    {
     "name": "stdout",
     "output_type": "stream",
     "text": [
      "--- Fold 0 ---\n",
      "Melhores hiperparâmetros: {'algorithm': 'auto', 'leaf_size': 38, 'n_neighbors': 8, 'weights': 'uniform'}\n",
      "Melhor acurácia: 0.8870554765291608\n",
      "--- Fold 1 ---\n",
      "Melhores hiperparâmetros: {'algorithm': 'auto', 'leaf_size': 38, 'n_neighbors': 4, 'weights': 'distance'}\n",
      "Melhor acurácia: 0.8544807965860597\n",
      "--- Fold 2 ---\n",
      "Melhores hiperparâmetros: {'algorithm': 'auto', 'leaf_size': 37, 'n_neighbors': 6, 'weights': 'distance'}\n",
      "Melhor acurácia: 0.8815078236130868\n",
      "--- Fold 3 ---\n",
      "Melhores hiperparâmetros: {'algorithm': 'auto', 'leaf_size': 15, 'n_neighbors': 6, 'weights': 'distance'}\n",
      "Melhor acurácia: 0.9029871977240399\n"
     ]
    }
   ],
   "source": [
    "from sklearn.model_selection import cross_val_score\n",
    "from sklearn.model_selection import KFold\n",
    "from sklearn.model_selection import GridSearchCV\n",
    "\n",
    "kf = KFold(n_splits=4, random_state=SEED, shuffle=True)\n",
    "knn = KNeighborsClassifier()\n",
    "parametros = {\n",
    "    'n_neighbors': list(range(2, 11)),\n",
    "    'weights': ['uniform', 'distance'],\n",
    "    'algorithm': ['auto', 'ball_tree', 'kd_tree', 'brute'],\n",
    "    'leaf_size': list(range(15, 46))\n",
    "}\n",
    "\n",
    "melhor_fold = {}\n",
    "melhor_acuracia = 0\n",
    "\n",
    "for i, (train_index, test_index) in enumerate(kf.split(df_x)):\n",
    "    print(f\"--- Fold {i} ---\")\n",
    "\n",
    "    # Separando treino e teste de x e y\n",
    "    train_x, test_x = df_x.iloc[train_index], df_x.iloc[test_index]\n",
    "    train_y, test_y = df_y[train_index], df_y[test_index]\n",
    "\n",
    "    # Aplicando GridSearchCV\n",
    "    grid = GridSearchCV(estimator=knn, param_grid=parametros, scoring='accuracy')\n",
    "    grid.fit(train_x, train_y)\n",
    "\n",
    "    # Mostrando melhores parâmetros e acurácia\n",
    "    print(\"Melhores hiperparâmetros:\", grid.best_params_)\n",
    "    print(\"Melhor acurácia:\", grid.best_score_)\n",
    "\n",
    "    if grid.best_score_ > melhor_acuracia:\n",
    "        melhor_acuracia = grid.best_score_\n",
    "        \n",
    "        # Armazenando melhores parâmetros e acurácia\n",
    "        melhor_fold['parametros'] = (grid.best_params_)\n",
    "        melhor_fold['acuracia'] = (grid.best_score_)\n",
    "\n",
    "        # Armazenando treino e teste\n",
    "        melhor_fold['treino'] = ((train_x, train_y))\n",
    "        melhor_fold['teste'] = ((test_x, test_y))"
   ]
  },
  {
   "cell_type": "code",
   "execution_count": 411,
   "metadata": {},
   "outputs": [
    {
     "data": {
      "text/plain": [
       "{'algorithm': 'auto', 'leaf_size': 15, 'n_neighbors': 6, 'weights': 'distance'}"
      ]
     },
     "execution_count": 411,
     "metadata": {},
     "output_type": "execute_result"
    }
   ],
   "source": [
    "melhor_fold['parametros']"
   ]
  },
  {
   "cell_type": "markdown",
   "metadata": {},
   "source": [
    "### Modelo com os melhores parâmetros e melhor fold"
   ]
  },
  {
   "cell_type": "code",
   "execution_count": 415,
   "metadata": {},
   "outputs": [
    {
     "name": "stdout",
     "output_type": "stream",
     "text": [
      "{'algorithm': 'auto', 'leaf_size': 15, 'metric': 'minkowski', 'metric_params': None, 'n_jobs': None, 'n_neighbors': 6, 'p': 2, 'weights': 'distance'}\n"
     ]
    },
    {
     "data": {
      "text/plain": [
       "array([0, 0, 0, 0, 0, 0, 0, 0, 1, 0, 0, 0, 0, 0, 0, 0, 0, 0, 0, 0, 0, 0,\n",
       "       0, 0, 0, 0, 1, 0, 0, 1, 0, 0, 0, 1, 0, 1, 1, 0, 0, 0, 0, 0, 1, 0,\n",
       "       0, 0, 0, 1, 0, 0, 0, 0, 0, 0, 0, 0, 1, 0, 0, 0, 0, 0])"
      ]
     },
     "metadata": {},
     "output_type": "display_data"
    }
   ],
   "source": [
    "from sklearn.neighbors import KNeighborsClassifier\n",
    "\n",
    "knn = KNeighborsClassifier(n_neighbors = melhor_fold['parametros']['n_neighbors'], algorithm = melhor_fold['parametros']['algorithm'], leaf_size = melhor_fold['parametros']['leaf_size'], weights = melhor_fold['parametros']['weights'])\n",
    "knn.fit(melhor_fold['treino'][0], melhor_fold['treino'][1])\n",
    "predicao_knn = knn.predict(melhor_fold['teste'][0])\n",
    "\n",
    "display(predicao_knn)"
   ]
  },
  {
   "cell_type": "code",
   "execution_count": 413,
   "metadata": {},
   "outputs": [
    {
     "name": "stdout",
     "output_type": "stream",
     "text": [
      "              precision    recall  f1-score   support\n",
      "\n",
      "         Não       0.91      0.92      0.91        52\n",
      "         Sim       0.56      0.50      0.53        10\n",
      "\n",
      "    accuracy                           0.85        62\n",
      "   macro avg       0.73      0.71      0.72        62\n",
      "weighted avg       0.85      0.85      0.85        62\n",
      "\n"
     ]
    }
   ],
   "source": [
    "from sklearn.metrics import *\n",
    "\n",
    "print(classification_report(melhor_fold['teste'][1], predicao_knn, target_names=list(le_y.classes_)))"
   ]
  },
  {
   "cell_type": "code",
   "execution_count": 414,
   "metadata": {},
   "outputs": [
    {
     "data": {
      "text/plain": [
       "<sklearn.metrics._plot.confusion_matrix.ConfusionMatrixDisplay at 0x1103023a110>"
      ]
     },
     "execution_count": 414,
     "metadata": {},
     "output_type": "execute_result"
    },
    {
     "data": {
      "image/png": "[encoded data removed]",
      "text/plain": [
       "<Figure size 640x480 with 2 Axes>"
      ]
     },
     "metadata": {},
     "output_type": "display_data"
    }
   ],
   "source": [
    "ConfusionMatrixDisplay(confusion_matrix(melhor_fold['teste'][1], predicao_knn)).plot()"
   ]
  },
  {
   "cell_type": "markdown",
   "metadata": {},
   "source": [
    "É notável que todos os modelos estão tendo uma dificuldade maior em predizer os dados da classe 'Sim'. Por isso vamos testar usando SMOTE."
   ]
  },
  {
   "cell_type": "markdown",
   "metadata": {},
   "source": [
    "## Smote"
   ]
  },
  {
   "cell_type": "markdown",
   "metadata": {},
   "source": [
    "### SMOTE na base toda"
   ]
  },
  {
   "cell_type": "code",
   "execution_count": 141,
   "metadata": {},
   "outputs": [
    {
     "name": "stdout",
     "output_type": "stream",
     "text": [
      "              precision    recall  f1-score   support\n",
      "\n",
      "         Não       1.00      1.00      1.00        43\n",
      "         Sim       1.00      1.00      1.00        38\n",
      "\n",
      "    accuracy                           1.00        81\n",
      "   macro avg       1.00      1.00      1.00        81\n",
      "weighted avg       1.00      1.00      1.00        81\n",
      "\n"
     ]
    },
    {
     "data": {
      "text/plain": [
       "<sklearn.metrics._plot.confusion_matrix.ConfusionMatrixDisplay at 0x1da2ee19710>"
      ]
     },
     "execution_count": 141,
     "metadata": {},
     "output_type": "execute_result"
    },
    {
     "data": {
      "image/png": "[encoded data removed]",
      "text/plain": [
       "<Figure size 640x480 with 2 Axes>"
      ]
     },
     "metadata": {},
     "output_type": "display_data"
    }
   ],
   "source": [
    "from imblearn.over_sampling import SMOTE\n",
    "from sklearn.model_selection import train_test_split\n",
    "from sklearn.neighbors import KNeighborsClassifier\n",
    "from sklearn.metrics import *\n",
    "\n",
    "K = 5\n",
    "\n",
    "smote = SMOTE()\n",
    "x_refeito, y_refeito = smote.fit_resample(df_x_2, df_y_2)\n",
    "\n",
    "df_x, teste_x, df_y, teste_y = train_test_split(x_refeito, y_refeito, test_size=0.25, random_state=SEED)\n",
    "\n",
    "knn = KNeighborsClassifier(n_neighbors = K)\n",
    "knn.fit(df_x, df_y)\n",
    "predicao_knn = knn.predict(teste_x)\n",
    "\n",
    "print(classification_report(teste_y, predicao_knn, target_names=list(le_y.classes_)))\n",
    "ConfusionMatrixDisplay(confusion_matrix(teste_y, predicao_knn)).plot()"
   ]
  },
  {
   "cell_type": "markdown",
   "metadata": {},
   "source": [
    "Já é possível ver uma grande melhora, mas antes de tudo, vamos aplicar o Cross Validation"
   ]
  },
  {
   "cell_type": "code",
   "execution_count": 142,
   "metadata": {},
   "outputs": [
    {
     "name": "stdout",
     "output_type": "stream",
     "text": [
      "1.0\n",
      "1.0\n",
      "0.9876543209876543\n",
      "0.9753086419753086\n"
     ]
    },
    {
     "data": {
      "image/png": "[encoded data removed]",
      "text/plain": [
       "<Figure size 640x480 with 2 Axes>"
      ]
     },
     "metadata": {},
     "output_type": "display_data"
    },
    {
     "data": {
      "image/png": "[encoded data removed]",
      "text/plain": [
       "<Figure size 640x480 with 2 Axes>"
      ]
     },
     "metadata": {},
     "output_type": "display_data"
    },
    {
     "data": {
      "image/png": "[encoded data removed]",
      "text/plain": [
       "<Figure size 640x480 with 2 Axes>"
      ]
     },
     "metadata": {},
     "output_type": "display_data"
    },
    {
     "data": {
      "image/png": "[encoded data removed]",
      "text/plain": [
       "<Figure size 640x480 with 2 Axes>"
      ]
     },
     "metadata": {},
     "output_type": "display_data"
    }
   ],
   "source": [
    "from sklearn.model_selection import cross_val_score\n",
    "from sklearn.model_selection import KFold\n",
    "\n",
    "kf = KFold(n_splits=4, random_state=SEED, shuffle=True)\n",
    "knn = KNeighborsClassifier(n_neighbors=K)\n",
    "\n",
    "lista_acuracias = []\n",
    "lista_precisions = []\n",
    "\n",
    "for i, (train_index, test_index) in enumerate(kf.split(x_refeito)):\n",
    "    # Separando treino e teste de x e y\n",
    "    train_x, test_x = x_refeito.iloc[train_index], x_refeito.iloc[test_index]\n",
    "    train_y, test_y = y_refeito[train_index], y_refeito[test_index]\n",
    "\n",
    "    # Treinando o modelo\n",
    "    knn.fit(train_x, train_y)\n",
    "\n",
    "    # Predict\n",
    "    predict = knn.predict(test_x)\n",
    "\n",
    "    # Avaliando modelo\n",
    "    lista_acuracias.append(accuracy_score(test_y, predict))\n",
    "    lista_precisions.append(precision_score(test_y, predict))\n",
    "    print(accuracy_score(test_y, predict))\n",
    "    matriz_confusao = confusion_matrix(test_y, predict)\n",
    "    matriz_confusao_display = ConfusionMatrixDisplay(matriz_confusao)\n",
    "    matriz_confusao_display.plot()"
   ]
  },
  {
   "cell_type": "markdown",
   "metadata": {},
   "source": [
    "Pelo fato do aplicativo possuir um nicho específico, aplicando o SMOTE apenas no treino condiz mais a um cenário real, em que a maioria dos dados novos não serão de possíveis usuários."
   ]
  },
  {
   "cell_type": "markdown",
   "metadata": {},
   "source": [
    "### SMOTE no treino"
   ]
  },
  {
   "cell_type": "code",
   "execution_count": 143,
   "metadata": {},
   "outputs": [
    {
     "name": "stdout",
     "output_type": "stream",
     "text": [
      "              precision    recall  f1-score   support\n",
      "\n",
      "         Não       1.00      1.00      1.00        39\n",
      "         Sim       1.00      1.00      1.00        23\n",
      "\n",
      "    accuracy                           1.00        62\n",
      "   macro avg       1.00      1.00      1.00        62\n",
      "weighted avg       1.00      1.00      1.00        62\n",
      "\n"
     ]
    },
    {
     "data": {
      "text/plain": [
       "<sklearn.metrics._plot.confusion_matrix.ConfusionMatrixDisplay at 0x1da2efa3510>"
      ]
     },
     "execution_count": 143,
     "metadata": {},
     "output_type": "execute_result"
    },
    {
     "data": {
      "image/png": "[encoded data removed]",
      "text/plain": [
       "<Figure size 640x480 with 2 Axes>"
      ]
     },
     "metadata": {},
     "output_type": "display_data"
    }
   ],
   "source": [
    "from imblearn.over_sampling import SMOTE\n",
    "\n",
    "df_x, teste_x, df_y, teste_y = train_test_split(df_x_2, df_y_2, test_size=0.25, random_state=SEED)\n",
    "\n",
    "smote = SMOTE()\n",
    "x_refeito, y_refeito = smote.fit_resample(df_x, df_y)\n",
    "\n",
    "knn = KNeighborsClassifier(n_neighbors = K)\n",
    "knn.fit(x_refeito, y_refeito)\n",
    "predicao_knn = knn.predict(teste_x)\n",
    "\n",
    "print(classification_report(teste_y, predicao_knn, target_names=list(le_y.classes_)))\n",
    "ConfusionMatrixDisplay(confusion_matrix(teste_y, predicao_knn)).plot()"
   ]
  },
  {
   "cell_type": "code",
   "execution_count": 144,
   "metadata": {},
   "outputs": [
    {
     "name": "stdout",
     "output_type": "stream",
     "text": [
      "1.0\n",
      "1.0\n",
      "0.9838709677419355\n",
      "0.9838709677419355\n"
     ]
    },
    {
     "data": {
      "image/png": "[encoded data removed]",
      "text/plain": [
       "<Figure size 640x480 with 2 Axes>"
      ]
     },
     "metadata": {},
     "output_type": "display_data"
    },
    {
     "data": {
      "image/png": "[encoded data removed]",
      "text/plain": [
       "<Figure size 640x480 with 2 Axes>"
      ]
     },
     "metadata": {},
     "output_type": "display_data"
    },
    {
     "data": {
      "image/png": "[encoded data removed]",
      "text/plain": [
       "<Figure size 640x480 with 2 Axes>"
      ]
     },
     "metadata": {},
     "output_type": "display_data"
    },
    {
     "data": {
      "image/png": "[encoded data removed]",
      "text/plain": [
       "<Figure size 640x480 with 2 Axes>"
      ]
     },
     "metadata": {},
     "output_type": "display_data"
    }
   ],
   "source": [
    "from sklearn.model_selection import cross_val_score\n",
    "from sklearn.model_selection import KFold\n",
    "\n",
    "kf = KFold(n_splits=4, random_state=SEED, shuffle=True)\n",
    "knn = KNeighborsClassifier(n_neighbors=K)\n",
    "\n",
    "pior_fold = {}\n",
    "pior_acuracia = 1\n",
    "\n",
    "for i, (train_index, test_index) in enumerate(kf.split(df_x_2)):\n",
    "    # Separando treino e teste de x e y\n",
    "    train_x, test_x = df_x_2.iloc[train_index], df_x_2.iloc[test_index]\n",
    "    train_y, test_y = df_y_2[train_index], df_y_2[test_index]\n",
    "\n",
    "    smote = SMOTE()\n",
    "    x_refeito, y_refeito = smote.fit_resample(train_x, train_y)\n",
    "\n",
    "    # Treinando o modelo\n",
    "    knn.fit(x_refeito, y_refeito)\n",
    "\n",
    "    # Predict\n",
    "    predict = knn.predict(test_x)\n",
    "\n",
    "    # Avaliando modelo\n",
    "    print(accuracy_score(test_y, predict))\n",
    "    matriz_confusao = confusion_matrix(test_y, predict)\n",
    "    matriz_confusao_display = ConfusionMatrixDisplay(matriz_confusao)\n",
    "    matriz_confusao_display.plot()\n",
    "\n",
    "    if accuracy_score(test_y, predict) <= pior_acuracia:\n",
    "        pior_acuracia = accuracy_score(test_y, predict)\n",
    "    \n",
    "        # Armazenando treino e teste\n",
    "        pior_fold['treino'] = ((x_refeito, y_refeito))\n",
    "        pior_fold['teste'] = ((test_x, test_y))\n",
    "\n",
    "    "
   ]
  },
  {
   "cell_type": "markdown",
   "metadata": {},
   "source": [
    "Para que o modelo não fique com 100% de acurácia, utilizaremos o Fold com menor score"
   ]
  },
  {
   "cell_type": "code",
   "execution_count": 145,
   "metadata": {},
   "outputs": [
    {
     "name": "stdout",
     "output_type": "stream",
     "text": [
      "              precision    recall  f1-score   support\n",
      "\n",
      "         Não       1.00      0.98      0.99        41\n",
      "         Sim       0.95      1.00      0.98        21\n",
      "\n",
      "    accuracy                           0.98        62\n",
      "   macro avg       0.98      0.99      0.98        62\n",
      "weighted avg       0.98      0.98      0.98        62\n",
      "\n"
     ]
    },
    {
     "data": {
      "text/plain": [
       "<sklearn.metrics._plot.confusion_matrix.ConfusionMatrixDisplay at 0x1da32ea6790>"
      ]
     },
     "execution_count": 145,
     "metadata": {},
     "output_type": "execute_result"
    },
    {
     "data": {
      "image/png": "[encoded data removed]",
      "text/plain": [
       "<Figure size 640x480 with 2 Axes>"
      ]
     },
     "metadata": {},
     "output_type": "display_data"
    }
   ],
   "source": [
    "from sklearn.neighbors import KNeighborsClassifier\n",
    "\n",
    "knn = KNeighborsClassifier(n_neighbors = K)\n",
    "knn.fit(pior_fold['treino'][0], pior_fold['treino'][1])\n",
    "predicao_knn = knn.predict(pior_fold['teste'][0])\n",
    "\n",
    "print(classification_report(pior_fold['teste'][1], predicao_knn, target_names=list(le_y.classes_)))\n",
    "ConfusionMatrixDisplay(confusion_matrix(pior_fold['teste'][1], predicao_knn)).plot()"
   ]
  },
  {
   "cell_type": "markdown",
   "metadata": {},
   "source": [
    "### Exportando modelo"
   ]
  },
  {
   "cell_type": "code",
   "execution_count": 146,
   "metadata": {},
   "outputs": [],
   "source": [
    "import pickle\n",
    "\n",
    "with open('possiveis_usuarios.pkl', 'wb') as arquivo:\n",
    "    pickle.dump(knn, arquivo)"
   ]
  }
 ],
 "metadata": {
  "kernelspec": {
   "display_name": "Python 3",
   "language": "python",
   "name": "python3"
  },
  "language_info": {
   "codemirror_mode": {
    "name": "ipython",
    "version": 3
   },
   "file_extension": ".py",
   "mimetype": "text/x-python",
   "name": "python",
   "nbconvert_exporter": "python",
   "pygments_lexer": "ipython3",
   "version": "3.11.2"
  }
 },
 "nbformat": 4,
 "nbformat_minor": 2
}
